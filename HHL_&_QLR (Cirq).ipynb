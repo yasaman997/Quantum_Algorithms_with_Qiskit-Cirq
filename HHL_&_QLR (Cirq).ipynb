{
 "cells": [
  {
   "cell_type": "markdown",
   "metadata": {
    "id": "gCvJSOT_HpuZ"
   },
   "source": [
    "# HHL Algorithm"
   ]
  },
  {
   "cell_type": "code",
   "execution_count": 1,
   "metadata": {
    "colab": {
     "base_uri": "https://localhost:8080/"
    },
    "id": "ZTUXzh9PH-L9",
    "outputId": "23ee1686-a7dc-4d07-e326-ff9ca17dce61"
   },
   "outputs": [
    {
     "name": "stdout",
     "output_type": "stream",
     "text": [
      "Collecting cirq\n",
      "  Downloading cirq-1.4.1-py3-none-any.whl.metadata (7.4 kB)\n",
      "Collecting cirq-aqt==1.4.1 (from cirq)\n",
      "  Downloading cirq_aqt-1.4.1-py3-none-any.whl.metadata (1.6 kB)\n",
      "Collecting cirq-core==1.4.1 (from cirq)\n",
      "  Downloading cirq_core-1.4.1-py3-none-any.whl.metadata (1.8 kB)\n",
      "Collecting cirq-google==1.4.1 (from cirq)\n",
      "  Downloading cirq_google-1.4.1-py3-none-any.whl.metadata (2.0 kB)\n",
      "Collecting cirq-ionq==1.4.1 (from cirq)\n",
      "  Downloading cirq_ionq-1.4.1-py3-none-any.whl.metadata (1.6 kB)\n",
      "Collecting cirq-pasqal==1.4.1 (from cirq)\n",
      "  Downloading cirq_pasqal-1.4.1-py3-none-any.whl.metadata (1.6 kB)\n",
      "Collecting cirq-rigetti==1.4.1 (from cirq)\n",
      "  Downloading cirq_rigetti-1.4.1-py3-none-any.whl.metadata (1.7 kB)\n",
      "Collecting cirq-web==1.4.1 (from cirq)\n",
      "  Downloading cirq_web-1.4.1-py3-none-any.whl.metadata (2.6 kB)\n",
      "Requirement already satisfied: requests~=2.18 in /usr/local/lib/python3.10/dist-packages (from cirq-aqt==1.4.1->cirq) (2.32.3)\n",
      "Requirement already satisfied: attrs>=21.3.0 in /usr/local/lib/python3.10/dist-packages (from cirq-core==1.4.1->cirq) (24.3.0)\n",
      "Collecting duet>=0.2.8 (from cirq-core==1.4.1->cirq)\n",
      "  Downloading duet-0.2.9-py3-none-any.whl.metadata (2.3 kB)\n",
      "Requirement already satisfied: matplotlib~=3.0 in /usr/local/lib/python3.10/dist-packages (from cirq-core==1.4.1->cirq) (3.8.0)\n",
      "Requirement already satisfied: networkx>=2.4 in /usr/local/lib/python3.10/dist-packages (from cirq-core==1.4.1->cirq) (3.4.2)\n",
      "Requirement already satisfied: numpy~=1.22 in /usr/local/lib/python3.10/dist-packages (from cirq-core==1.4.1->cirq) (1.26.4)\n",
      "Requirement already satisfied: pandas in /usr/local/lib/python3.10/dist-packages (from cirq-core==1.4.1->cirq) (2.2.2)\n",
      "Collecting sortedcontainers~=2.0 (from cirq-core==1.4.1->cirq)\n",
      "  Downloading sortedcontainers-2.4.0-py2.py3-none-any.whl.metadata (10 kB)\n",
      "Requirement already satisfied: scipy~=1.0 in /usr/local/lib/python3.10/dist-packages (from cirq-core==1.4.1->cirq) (1.13.1)\n",
      "Requirement already satisfied: sympy in /usr/local/lib/python3.10/dist-packages (from cirq-core==1.4.1->cirq) (1.13.1)\n",
      "Requirement already satisfied: typing-extensions>=4.2 in /usr/local/lib/python3.10/dist-packages (from cirq-core==1.4.1->cirq) (4.12.2)\n",
      "Requirement already satisfied: tqdm in /usr/local/lib/python3.10/dist-packages (from cirq-core==1.4.1->cirq) (4.67.1)\n",
      "Requirement already satisfied: google-api-core>=1.14.0 in /usr/local/lib/python3.10/dist-packages (from google-api-core[grpc]>=1.14.0->cirq-google==1.4.1->cirq) (2.19.2)\n",
      "Requirement already satisfied: proto-plus>=1.20.0 in /usr/local/lib/python3.10/dist-packages (from cirq-google==1.4.1->cirq) (1.25.0)\n",
      "Requirement already satisfied: protobuf<5.0.0,>=3.15.0 in /usr/local/lib/python3.10/dist-packages (from cirq-google==1.4.1->cirq) (4.25.5)\n",
      "Collecting pyquil<5.0.0,>=4.11.0 (from cirq-rigetti==1.4.1->cirq)\n",
      "  Downloading pyquil-4.15.0-py3-none-any.whl.metadata (10 kB)\n",
      "Requirement already satisfied: googleapis-common-protos<2.0.dev0,>=1.56.2 in /usr/local/lib/python3.10/dist-packages (from google-api-core>=1.14.0->google-api-core[grpc]>=1.14.0->cirq-google==1.4.1->cirq) (1.66.0)\n",
      "Requirement already satisfied: google-auth<3.0.dev0,>=2.14.1 in /usr/local/lib/python3.10/dist-packages (from google-api-core>=1.14.0->google-api-core[grpc]>=1.14.0->cirq-google==1.4.1->cirq) (2.27.0)\n",
      "Requirement already satisfied: grpcio<2.0dev,>=1.33.2 in /usr/local/lib/python3.10/dist-packages (from google-api-core[grpc]>=1.14.0->cirq-google==1.4.1->cirq) (1.68.1)\n",
      "Requirement already satisfied: grpcio-status<2.0.dev0,>=1.33.2 in /usr/local/lib/python3.10/dist-packages (from google-api-core[grpc]>=1.14.0->cirq-google==1.4.1->cirq) (1.62.3)\n",
      "Requirement already satisfied: contourpy>=1.0.1 in /usr/local/lib/python3.10/dist-packages (from matplotlib~=3.0->cirq-core==1.4.1->cirq) (1.3.1)\n",
      "Requirement already satisfied: cycler>=0.10 in /usr/local/lib/python3.10/dist-packages (from matplotlib~=3.0->cirq-core==1.4.1->cirq) (0.12.1)\n",
      "Requirement already satisfied: fonttools>=4.22.0 in /usr/local/lib/python3.10/dist-packages (from matplotlib~=3.0->cirq-core==1.4.1->cirq) (4.55.3)\n",
      "Requirement already satisfied: kiwisolver>=1.0.1 in /usr/local/lib/python3.10/dist-packages (from matplotlib~=3.0->cirq-core==1.4.1->cirq) (1.4.7)\n",
      "Requirement already satisfied: packaging>=20.0 in /usr/local/lib/python3.10/dist-packages (from matplotlib~=3.0->cirq-core==1.4.1->cirq) (24.2)\n",
      "Requirement already satisfied: pillow>=6.2.0 in /usr/local/lib/python3.10/dist-packages (from matplotlib~=3.0->cirq-core==1.4.1->cirq) (11.0.0)\n",
      "Requirement already satisfied: pyparsing>=2.3.1 in /usr/local/lib/python3.10/dist-packages (from matplotlib~=3.0->cirq-core==1.4.1->cirq) (3.2.0)\n",
      "Requirement already satisfied: python-dateutil>=2.7 in /usr/local/lib/python3.10/dist-packages (from matplotlib~=3.0->cirq-core==1.4.1->cirq) (2.8.2)\n",
      "Requirement already satisfied: deprecated<2.0.0,>=1.2.14 in /usr/local/lib/python3.10/dist-packages (from pyquil<5.0.0,>=4.11.0->cirq-rigetti==1.4.1->cirq) (1.2.15)\n",
      "Requirement already satisfied: matplotlib-inline<0.2.0,>=0.1.7 in /usr/local/lib/python3.10/dist-packages (from pyquil<5.0.0,>=4.11.0->cirq-rigetti==1.4.1->cirq) (0.1.7)\n",
      "Collecting packaging>=20.0 (from matplotlib~=3.0->cirq-core==1.4.1->cirq)\n",
      "  Downloading packaging-23.2-py3-none-any.whl.metadata (3.2 kB)\n",
      "Collecting qcs-sdk-python>=0.20.1 (from pyquil<5.0.0,>=4.11.0->cirq-rigetti==1.4.1->cirq)\n",
      "  Downloading qcs_sdk_python-0.21.6-cp310-cp310-manylinux_2_28_x86_64.whl.metadata (7.0 kB)\n",
      "Collecting quil>=0.13.2 (from pyquil<5.0.0,>=4.11.0->cirq-rigetti==1.4.1->cirq)\n",
      "  Downloading quil-0.13.2-cp310-cp310-manylinux_2_17_x86_64.manylinux2014_x86_64.whl.metadata (1.8 kB)\n",
      "Collecting rpcq<4.0.0,>=3.11.0 (from pyquil<5.0.0,>=4.11.0->cirq-rigetti==1.4.1->cirq)\n",
      "  Downloading rpcq-3.11.0.tar.gz (45 kB)\n",
      "\u001b[2K     \u001b[90m━━━━━━━━━━━━━━━━━━━━━━━━━━━━━━━━━━━━━━━━\u001b[0m \u001b[32m45.6/45.6 kB\u001b[0m \u001b[31m2.3 MB/s\u001b[0m eta \u001b[36m0:00:00\u001b[0m\n",
      "\u001b[?25h  Preparing metadata (setup.py) ... \u001b[?25l\u001b[?25hdone\n",
      "Collecting types-deprecated<2.0.0.0,>=1.2.9.3 (from pyquil<5.0.0,>=4.11.0->cirq-rigetti==1.4.1->cirq)\n",
      "  Downloading types_Deprecated-1.2.15.20241117-py3-none-any.whl.metadata (1.8 kB)\n",
      "Requirement already satisfied: charset-normalizer<4,>=2 in /usr/local/lib/python3.10/dist-packages (from requests~=2.18->cirq-aqt==1.4.1->cirq) (3.4.0)\n",
      "Requirement already satisfied: idna<4,>=2.5 in /usr/local/lib/python3.10/dist-packages (from requests~=2.18->cirq-aqt==1.4.1->cirq) (3.10)\n",
      "Requirement already satisfied: urllib3<3,>=1.21.1 in /usr/local/lib/python3.10/dist-packages (from requests~=2.18->cirq-aqt==1.4.1->cirq) (2.2.3)\n",
      "Requirement already satisfied: certifi>=2017.4.17 in /usr/local/lib/python3.10/dist-packages (from requests~=2.18->cirq-aqt==1.4.1->cirq) (2024.12.14)\n",
      "Requirement already satisfied: pytz>=2020.1 in /usr/local/lib/python3.10/dist-packages (from pandas->cirq-core==1.4.1->cirq) (2024.2)\n",
      "Requirement already satisfied: tzdata>=2022.7 in /usr/local/lib/python3.10/dist-packages (from pandas->cirq-core==1.4.1->cirq) (2024.2)\n",
      "Requirement already satisfied: mpmath<1.4,>=1.1.0 in /usr/local/lib/python3.10/dist-packages (from sympy->cirq-core==1.4.1->cirq) (1.3.0)\n",
      "Requirement already satisfied: wrapt<2,>=1.10 in /usr/local/lib/python3.10/dist-packages (from deprecated<2.0.0,>=1.2.14->pyquil<5.0.0,>=4.11.0->cirq-rigetti==1.4.1->cirq) (1.17.0)\n",
      "Requirement already satisfied: cachetools<6.0,>=2.0.0 in /usr/local/lib/python3.10/dist-packages (from google-auth<3.0.dev0,>=2.14.1->google-api-core>=1.14.0->google-api-core[grpc]>=1.14.0->cirq-google==1.4.1->cirq) (5.5.0)\n",
      "Requirement already satisfied: pyasn1-modules>=0.2.1 in /usr/local/lib/python3.10/dist-packages (from google-auth<3.0.dev0,>=2.14.1->google-api-core>=1.14.0->google-api-core[grpc]>=1.14.0->cirq-google==1.4.1->cirq) (0.4.1)\n",
      "Requirement already satisfied: rsa<5,>=3.1.4 in /usr/local/lib/python3.10/dist-packages (from google-auth<3.0.dev0,>=2.14.1->google-api-core>=1.14.0->google-api-core[grpc]>=1.14.0->cirq-google==1.4.1->cirq) (4.9)\n",
      "Requirement already satisfied: traitlets in /usr/local/lib/python3.10/dist-packages (from matplotlib-inline<0.2.0,>=0.1.7->pyquil<5.0.0,>=4.11.0->cirq-rigetti==1.4.1->cirq) (5.7.1)\n",
      "Requirement already satisfied: six>=1.5 in /usr/local/lib/python3.10/dist-packages (from python-dateutil>=2.7->matplotlib~=3.0->cirq-core==1.4.1->cirq) (1.17.0)\n",
      "Collecting qcs-api-client-common>=0.10.0 (from qcs-sdk-python>=0.20.1->pyquil<5.0.0,>=4.11.0->cirq-rigetti==1.4.1->cirq)\n",
      "  Downloading qcs_api_client_common-0.10.0-cp310-cp310-manylinux_2_28_x86_64.whl.metadata (2.5 kB)\n",
      "Requirement already satisfied: msgpack<2.0,>=0.6 in /usr/local/lib/python3.10/dist-packages (from rpcq<4.0.0,>=3.11.0->pyquil<5.0.0,>=4.11.0->cirq-rigetti==1.4.1->cirq) (1.1.0)\n",
      "Collecting python-rapidjson (from rpcq<4.0.0,>=3.11.0->pyquil<5.0.0,>=4.11.0->cirq-rigetti==1.4.1->cirq)\n",
      "  Downloading python_rapidjson-1.20-cp310-cp310-manylinux_2_17_x86_64.manylinux2014_x86_64.whl.metadata (22 kB)\n",
      "Requirement already satisfied: pyzmq>=17 in /usr/local/lib/python3.10/dist-packages (from rpcq<4.0.0,>=3.11.0->pyquil<5.0.0,>=4.11.0->cirq-rigetti==1.4.1->cirq) (24.0.1)\n",
      "Collecting ruamel.yaml (from rpcq<4.0.0,>=3.11.0->pyquil<5.0.0,>=4.11.0->cirq-rigetti==1.4.1->cirq)\n",
      "  Downloading ruamel.yaml-0.18.6-py3-none-any.whl.metadata (23 kB)\n",
      "Requirement already satisfied: pyasn1<0.7.0,>=0.4.6 in /usr/local/lib/python3.10/dist-packages (from pyasn1-modules>=0.2.1->google-auth<3.0.dev0,>=2.14.1->google-api-core>=1.14.0->google-api-core[grpc]>=1.14.0->cirq-google==1.4.1->cirq) (0.6.1)\n",
      "Collecting grpc-interceptor>=0.15.0 (from qcs-api-client-common>=0.10.0->qcs-sdk-python>=0.20.1->pyquil<5.0.0,>=4.11.0->cirq-rigetti==1.4.1->cirq)\n",
      "  Downloading grpc_interceptor-0.15.4-py3-none-any.whl.metadata (8.4 kB)\n",
      "Requirement already satisfied: httpx>=0.27.0 in /usr/local/lib/python3.10/dist-packages (from qcs-api-client-common>=0.10.0->qcs-sdk-python>=0.20.1->pyquil<5.0.0,>=4.11.0->cirq-rigetti==1.4.1->cirq) (0.28.1)\n",
      "Collecting ruamel.yaml.clib>=0.2.7 (from ruamel.yaml->rpcq<4.0.0,>=3.11.0->pyquil<5.0.0,>=4.11.0->cirq-rigetti==1.4.1->cirq)\n",
      "  Downloading ruamel.yaml.clib-0.2.12-cp310-cp310-manylinux_2_17_x86_64.manylinux2014_x86_64.whl.metadata (2.7 kB)\n",
      "Requirement already satisfied: anyio in /usr/local/lib/python3.10/dist-packages (from httpx>=0.27.0->qcs-api-client-common>=0.10.0->qcs-sdk-python>=0.20.1->pyquil<5.0.0,>=4.11.0->cirq-rigetti==1.4.1->cirq) (3.7.1)\n",
      "Requirement already satisfied: httpcore==1.* in /usr/local/lib/python3.10/dist-packages (from httpx>=0.27.0->qcs-api-client-common>=0.10.0->qcs-sdk-python>=0.20.1->pyquil<5.0.0,>=4.11.0->cirq-rigetti==1.4.1->cirq) (1.0.7)\n",
      "Requirement already satisfied: h11<0.15,>=0.13 in /usr/local/lib/python3.10/dist-packages (from httpcore==1.*->httpx>=0.27.0->qcs-api-client-common>=0.10.0->qcs-sdk-python>=0.20.1->pyquil<5.0.0,>=4.11.0->cirq-rigetti==1.4.1->cirq) (0.14.0)\n",
      "Requirement already satisfied: sniffio>=1.1 in /usr/local/lib/python3.10/dist-packages (from anyio->httpx>=0.27.0->qcs-api-client-common>=0.10.0->qcs-sdk-python>=0.20.1->pyquil<5.0.0,>=4.11.0->cirq-rigetti==1.4.1->cirq) (1.3.1)\n",
      "Requirement already satisfied: exceptiongroup in /usr/local/lib/python3.10/dist-packages (from anyio->httpx>=0.27.0->qcs-api-client-common>=0.10.0->qcs-sdk-python>=0.20.1->pyquil<5.0.0,>=4.11.0->cirq-rigetti==1.4.1->cirq) (1.2.2)\n",
      "Downloading cirq-1.4.1-py3-none-any.whl (8.0 kB)\n",
      "Downloading cirq_aqt-1.4.1-py3-none-any.whl (30 kB)\n",
      "Downloading cirq_core-1.4.1-py3-none-any.whl (1.9 MB)\n",
      "\u001b[2K   \u001b[90m━━━━━━━━━━━━━━━━━━━━━━━━━━━━━━━━━━━━━━━━\u001b[0m \u001b[32m1.9/1.9 MB\u001b[0m \u001b[31m28.1 MB/s\u001b[0m eta \u001b[36m0:00:00\u001b[0m\n",
      "\u001b[?25hDownloading cirq_google-1.4.1-py3-none-any.whl (532 kB)\n",
      "\u001b[2K   \u001b[90m━━━━━━━━━━━━━━━━━━━━━━━━━━━━━━━━━━━━━━━━\u001b[0m \u001b[32m532.7/532.7 kB\u001b[0m \u001b[31m27.9 MB/s\u001b[0m eta \u001b[36m0:00:00\u001b[0m\n",
      "\u001b[?25hDownloading cirq_ionq-1.4.1-py3-none-any.whl (60 kB)\n",
      "\u001b[2K   \u001b[90m━━━━━━━━━━━━━━━━━━━━━━━━━━━━━━━━━━━━━━━━\u001b[0m \u001b[32m60.5/60.5 kB\u001b[0m \u001b[31m5.5 MB/s\u001b[0m eta \u001b[36m0:00:00\u001b[0m\n",
      "\u001b[?25hDownloading cirq_pasqal-1.4.1-py3-none-any.whl (31 kB)\n",
      "Downloading cirq_rigetti-1.4.1-py3-none-any.whl (69 kB)\n",
      "\u001b[2K   \u001b[90m━━━━━━━━━━━━━━━━━━━━━━━━━━━━━━━━━━━━━━━━\u001b[0m \u001b[32m69.3/69.3 kB\u001b[0m \u001b[31m6.2 MB/s\u001b[0m eta \u001b[36m0:00:00\u001b[0m\n",
      "\u001b[?25hDownloading cirq_web-1.4.1-py3-none-any.whl (596 kB)\n",
      "\u001b[2K   \u001b[90m━━━━━━━━━━━━━━━━━━━━━━━━━━━━━━━━━━━━━━━━\u001b[0m \u001b[32m596.5/596.5 kB\u001b[0m \u001b[31m33.5 MB/s\u001b[0m eta \u001b[36m0:00:00\u001b[0m\n",
      "\u001b[?25hDownloading duet-0.2.9-py3-none-any.whl (29 kB)\n",
      "Downloading pyquil-4.15.0-py3-none-any.whl (202 kB)\n",
      "\u001b[2K   \u001b[90m━━━━━━━━━━━━━━━━━━━━━━━━━━━━━━━━━━━━━━━━\u001b[0m \u001b[32m202.9/202.9 kB\u001b[0m \u001b[31m15.9 MB/s\u001b[0m eta \u001b[36m0:00:00\u001b[0m\n",
      "\u001b[?25hDownloading sortedcontainers-2.4.0-py2.py3-none-any.whl (29 kB)\n",
      "Downloading packaging-23.2-py3-none-any.whl (53 kB)\n",
      "\u001b[2K   \u001b[90m━━━━━━━━━━━━━━━━━━━━━━━━━━━━━━━━━━━━━━━━\u001b[0m \u001b[32m53.0/53.0 kB\u001b[0m \u001b[31m4.2 MB/s\u001b[0m eta \u001b[36m0:00:00\u001b[0m\n",
      "\u001b[?25hDownloading qcs_sdk_python-0.21.6-cp310-cp310-manylinux_2_28_x86_64.whl (6.4 MB)\n",
      "\u001b[2K   \u001b[90m━━━━━━━━━━━━━━━━━━━━━━━━━━━━━━━━━━━━━━━━\u001b[0m \u001b[32m6.4/6.4 MB\u001b[0m \u001b[31m69.1 MB/s\u001b[0m eta \u001b[36m0:00:00\u001b[0m\n",
      "\u001b[?25hDownloading quil-0.13.2-cp310-cp310-manylinux_2_17_x86_64.manylinux2014_x86_64.whl (2.2 MB)\n",
      "\u001b[2K   \u001b[90m━━━━━━━━━━━━━━━━━━━━━━━━━━━━━━━━━━━━━━━━\u001b[0m \u001b[32m2.2/2.2 MB\u001b[0m \u001b[31m50.4 MB/s\u001b[0m eta \u001b[36m0:00:00\u001b[0m\n",
      "\u001b[?25hDownloading types_Deprecated-1.2.15.20241117-py3-none-any.whl (3.8 kB)\n",
      "Downloading qcs_api_client_common-0.10.0-cp310-cp310-manylinux_2_28_x86_64.whl (2.9 MB)\n",
      "\u001b[2K   \u001b[90m━━━━━━━━━━━━━━━━━━━━━━━━━━━━━━━━━━━━━━━━\u001b[0m \u001b[32m2.9/2.9 MB\u001b[0m \u001b[31m50.1 MB/s\u001b[0m eta \u001b[36m0:00:00\u001b[0m\n",
      "\u001b[?25hDownloading python_rapidjson-1.20-cp310-cp310-manylinux_2_17_x86_64.manylinux2014_x86_64.whl (1.7 MB)\n",
      "\u001b[2K   \u001b[90m━━━━━━━━━━━━━━━━━━━━━━━━━━━━━━━━━━━━━━━━\u001b[0m \u001b[32m1.7/1.7 MB\u001b[0m \u001b[31m42.4 MB/s\u001b[0m eta \u001b[36m0:00:00\u001b[0m\n",
      "\u001b[?25hDownloading ruamel.yaml-0.18.6-py3-none-any.whl (117 kB)\n",
      "\u001b[2K   \u001b[90m━━━━━━━━━━━━━━━━━━━━━━━━━━━━━━━━━━━━━━━━\u001b[0m \u001b[32m117.8/117.8 kB\u001b[0m \u001b[31m10.5 MB/s\u001b[0m eta \u001b[36m0:00:00\u001b[0m\n",
      "\u001b[?25hDownloading grpc_interceptor-0.15.4-py3-none-any.whl (20 kB)\n",
      "Downloading ruamel.yaml.clib-0.2.12-cp310-cp310-manylinux_2_17_x86_64.manylinux2014_x86_64.whl (722 kB)\n",
      "\u001b[2K   \u001b[90m━━━━━━━━━━━━━━━━━━━━━━━━━━━━━━━━━━━━━━━━\u001b[0m \u001b[32m722.2/722.2 kB\u001b[0m \u001b[31m36.9 MB/s\u001b[0m eta \u001b[36m0:00:00\u001b[0m\n",
      "\u001b[?25hBuilding wheels for collected packages: rpcq\n",
      "  Building wheel for rpcq (setup.py) ... \u001b[?25l\u001b[?25hdone\n",
      "  Created wheel for rpcq: filename=rpcq-3.11.0-py3-none-any.whl size=45967 sha256=8eb36c57b19016315308002232472ecfd6dfbb20ea10b14898bc911cadb5bc50\n",
      "  Stored in directory: /root/.cache/pip/wheels/91/97/0a/b384d94155345284ec00712ab814cbfb5bc2b631080b4fa4c3\n",
      "Successfully built rpcq\n",
      "Installing collected packages: sortedcontainers, types-deprecated, ruamel.yaml.clib, quil, python-rapidjson, packaging, grpc-interceptor, duet, ruamel.yaml, rpcq, qcs-api-client-common, cirq-core, qcs-sdk-python, cirq-web, cirq-pasqal, cirq-ionq, cirq-aqt, pyquil, cirq-google, cirq-rigetti, cirq\n",
      "  Attempting uninstall: packaging\n",
      "    Found existing installation: packaging 24.2\n",
      "    Uninstalling packaging-24.2:\n",
      "      Successfully uninstalled packaging-24.2\n",
      "Successfully installed cirq-1.4.1 cirq-aqt-1.4.1 cirq-core-1.4.1 cirq-google-1.4.1 cirq-ionq-1.4.1 cirq-pasqal-1.4.1 cirq-rigetti-1.4.1 cirq-web-1.4.1 duet-0.2.9 grpc-interceptor-0.15.4 packaging-23.2 pyquil-4.15.0 python-rapidjson-1.20 qcs-api-client-common-0.10.0 qcs-sdk-python-0.21.6 quil-0.13.2 rpcq-3.11.0 ruamel.yaml-0.18.6 ruamel.yaml.clib-0.2.12 sortedcontainers-2.4.0 types-deprecated-1.2.15.20241117\n"
     ]
    }
   ],
   "source": [
    "! pip install cirq"
   ]
  },
  {
   "cell_type": "code",
   "execution_count": 2,
   "metadata": {
    "colab": {
     "base_uri": "https://localhost:8080/"
    },
    "id": "OmEZdV_VJhrU",
    "outputId": "ec3c24a1-1086-4a7a-dca1-416be916bfdc"
   },
   "outputs": [
    {
     "name": "stdout",
     "output_type": "stream",
     "text": [
      "Name: cirq\n",
      "Version: 1.4.1\n",
      "Summary: A framework for creating, editing, and invoking Noisy Intermediate Scale Quantum (NISQ) circuits.\n",
      "Home-page: http://github.com/quantumlib/cirq\n",
      "Author: The Cirq Developers\n",
      "Author-email: cirq-dev@googlegroups.com\n",
      "License: Apache 2\n",
      "Location: /usr/local/lib/python3.10/dist-packages\n",
      "Requires: cirq-aqt, cirq-core, cirq-google, cirq-ionq, cirq-pasqal, cirq-rigetti, cirq-web\n",
      "Required-by: \n"
     ]
    }
   ],
   "source": [
    "pip show cirq"
   ]
  },
  {
   "cell_type": "code",
   "execution_count": 3,
   "metadata": {
    "id": "n3bdO_4SHo36"
   },
   "outputs": [],
   "source": [
    "#import necessary framework\n",
    "import cirq\n",
    "import numpy as np\n",
    "import sympy\n",
    "import matplotlib.pyplot as plt"
   ]
  },
  {
   "cell_type": "code",
   "execution_count": 5,
   "metadata": {
    "id": "WWTz8_Y3H5D-"
   },
   "outputs": [],
   "source": [
    "#first defining the unitary matrix (A) and vector b\n",
    "A=np.array([[1,0],[0,1]])\n",
    "b= np.array([1,0]) # b should be normalized\n"
   ]
  },
  {
   "cell_type": "markdown",
   "metadata": {
    "id": "AsLKmHWjLUof"
   },
   "source": [
    "Defining my qubits: first my ancilla qubit, then for quantum phase estimation (QFE), I need to define a register\n",
    "The initial psi is the ancilla vector product tensor with what is given for weights( registers) tensor product with normalized b vector\n",
    "Also need to define the memory to keep eigenvalues information for us\n"
   ]
  },
  {
   "cell_type": "code",
   "execution_count": 11,
   "metadata": {
    "colab": {
     "base_uri": "https://localhost:8080/"
    },
    "id": "KzAEJEFMLd-o",
    "outputId": "823fc0f2-1347-4df2-dcbc-74c19e1943e5"
   },
   "outputs": [
    {
     "name": "stdout",
     "output_type": "stream",
     "text": [
      "ancilla: ────────────────────────Ry(theta)───M('result')───\n",
      "                                 │\n",
      "                   ┌   ┐         │\n",
      "memory_0: ─────────│0 1│─────────┼─────────────────────────\n",
      "                   │1 0│         │\n",
      "                   └   ┘         │\n",
      "                   │             │\n",
      "register_0: ───H───@───────qft───@───────────qft^-1────────\n",
      "                           │                 │\n",
      "register_1: ───H───────────#2────────────────#2────────────\n",
      "Counter({0: 954, 1: 46})\n"
     ]
    }
   ],
   "source": [
    "# create qubits\n",
    "ancilla=cirq.NamedQubit('ancilla')\n",
    "register=[cirq.NamedQubit(f\"register_{i}\") for i in range(2)]\n",
    "memory=[cirq.NamedQubit(f\"memory_{i}\") for i in range(2)]\n",
    "#define circuit\n",
    "circuit=cirq.Circuit()\n",
    "#Quantum phase estimation\n",
    "circuit.append(cirq.H.on_each(register)) # to create superposition between my registers, we use Hadamard here\n",
    "#then applying control gate on i defined above with one of the registers, and one of the memory\n",
    "circuit.append(cirq.ControlledGate(cirq.MatrixGate(A)).on(register[0],memory[0]))\n",
    "#usiing Quantum fourier Transform (QFT), which will here get a vector on its 3 basses then map it to a new vector state (N dimension of Hilbert space= 2^(number of qubits))\n",
    "circuit.append(cirq.qft(*register))\n",
    "#define controlled rotation\n",
    "theta=sympy.Symbol('theta')\n",
    "circuit.append(cirq.ry(theta).controlled().on(register[0],ancilla))\n",
    "#inverse QPE (quantum phase estimation) on QFT to have measure implementation:\n",
    "circuit.append(cirq.qft(*register, inverse=True))\n",
    "#Measure the Ancilla:\n",
    "circuit.append(cirq.measure(ancilla, key='result'))\n",
    "print(circuit)\n",
    "#Simulate the circuit by using simulator:\n",
    "sim=cirq.Simulator()\n",
    "r=sim.run(circuit,param_resolver={'theta':np.pi/4}, repetitions=1000)\n",
    "print(r.histogram(key='result'))\n"
   ]
  },
  {
   "cell_type": "code",
   "execution_count": 12,
   "metadata": {
    "colab": {
     "base_uri": "https://localhost:8080/"
    },
    "id": "2D4qFnMYUBBW",
    "outputId": "1ee94ad4-a179-4462-a682-6c4155879530"
   },
   "outputs": [
    {
     "name": "stdout",
     "output_type": "stream",
     "text": [
      "Counter({0: 956, 1: 44})\n"
     ]
    }
   ],
   "source": [
    "#Simulate the circuit by using simulator:\n",
    "sim=cirq.Simulator()\n",
    "r=sim.run(circuit,param_resolver={'theta':np.pi/4}, repetitions=1000)\n",
    "print(r.histogram(key='result'))\n"
   ]
  },
  {
   "cell_type": "markdown",
   "metadata": {
    "id": "VsJH8jaPWzRh"
   },
   "source": [
    "changing the unitary matrix A here:"
   ]
  },
  {
   "cell_type": "code",
   "execution_count": 10,
   "metadata": {
    "colab": {
     "base_uri": "https://localhost:8080/"
    },
    "id": "JZaGCLAzWDHk",
    "outputId": "584205fe-3919-4656-8dc5-7a304d9f7211"
   },
   "outputs": [
    {
     "name": "stdout",
     "output_type": "stream",
     "text": [
      "ancilla: ────────────────────────Ry(theta)───M('result')───\n",
      "                                 │\n",
      "                   ┌   ┐         │\n",
      "memory_0: ─────────│0 1│─────────┼─────────────────────────\n",
      "                   │1 0│         │\n",
      "                   └   ┘         │\n",
      "                   │             │\n",
      "register_0: ───H───@───────qft───@───────────qft^-1────────\n",
      "                           │                 │\n",
      "register_1: ───H───────────#2────────────────#2────────────\n",
      "Counter({0: 973, 1: 27})\n"
     ]
    }
   ],
   "source": [
    "A=np.array([[0,1],[1,0]])\n",
    "b= np.array([1,0])\n",
    "# create qubits\n",
    "ancilla=cirq.NamedQubit('ancilla')\n",
    "register=[cirq.NamedQubit(f\"register_{i}\") for i in range(2)]\n",
    "memory=[cirq.NamedQubit(f\"memory_{i}\") for i in range(2)]\n",
    "#define circuit\n",
    "circuit=cirq.Circuit()\n",
    "#Quantum phase estimation\n",
    "circuit.append(cirq.H.on_each(register)) # to create superposition between my registers, we use Hadamard here\n",
    "#then applying control gate on (i) defined above with one of the registers, and one of the memory\n",
    "circuit.append(cirq.ControlledGate(cirq.MatrixGate(A)).on(register[0],memory[0]))\n",
    "#usiing Quantum fourier Transform (QFT), which will here get a vector on its 3 basses then map it to a new vector state (N dimension of hilbert space= 2^(number of qubits))\n",
    "circuit.append(cirq.qft(*register))\n",
    "#define controlled rotation\n",
    "theta=sympy.Symbol('theta')\n",
    "circuit.append(cirq.ry(theta).controlled().on(register[0],ancilla))\n",
    "#inverse QPE (quantum phase estimation) on QFT to have measure implementation:\n",
    "circuit.append(cirq.qft(*register, inverse=True))\n",
    "#Measure the Ancilla:\n",
    "circuit.append(cirq.measure(ancilla, key='result'))\n",
    "print(circuit)\n",
    "#Simulate the circuit by using simulator:\n",
    "sim=cirq.Simulator()\n",
    "r=sim.run(circuit,param_resolver={'theta':np.pi/4}, repetitions=1000)\n",
    "print(r.histogram(key='result'))\n"
   ]
  },
  {
   "cell_type": "markdown",
   "metadata": {
    "id": "Bvjr0TyUXFf8"
   },
   "source": [
    "# Quantum Linear Rergression"
   ]
  },
  {
   "cell_type": "code",
   "execution_count": 21,
   "metadata": {
    "colab": {
     "base_uri": "https://localhost:8080/",
     "height": 153
    },
    "id": "-10LMfazWmMv",
    "outputId": "a9b929dd-b2e3-4012-d640-82438f23b519"
   },
   "outputs": [
    {
     "data": {
      "text/html": [
       "<pre style=\"overflow: auto; white-space: pre;\">q0: ───H───@───────\n",
       "           │\n",
       "           ┌   ┐\n",
       "q1: ───H───│1 0│───\n",
       "           │0 1│\n",
       "           └   ┘\n",
       "\n",
       "q2: ───H───────────</pre>"
      ],
      "text/plain": [
       "q0: ───H───@───────\n",
       "           │\n",
       "           ┌   ┐\n",
       "q1: ───H───│1 0│───\n",
       "           │0 1│\n",
       "           └   ┘\n",
       "\n",
       "q2: ───H───────────"
      ]
     },
     "execution_count": 21,
     "metadata": {},
     "output_type": "execute_result"
    }
   ],
   "source": [
    "import cirq\n",
    "import numpy as np\n",
    "# if having Ax=b, the matrix A needs to be unitary, now wanna implement it:\n",
    "A=np.array([[1,0],[0,1]])\n",
    "b= np.array([1,0])\n",
    "#create qubits:\n",
    "qubits=[cirq.NamedQubit(f'q{i}') for i in range(3)]\n",
    "#Define circuit\n",
    "circuit=cirq.Circuit()\n",
    "#Apply Hadamard gates to have superposition between qubits\n",
    "circuit.append(cirq.H.on_each(qubits))\n",
    "#Now Using matrix A as oracle (oracle-based implementation)\n",
    "#Define oracle for A\n",
    "def oracle(matrix):\n",
    "  return cirq.MatrixGate(matrix)\n",
    "\n",
    "#Now apply the oracle as controlled operator, we add it to the circuit\n",
    "circuit.append(cirq.ControlledGate(oracle(A)).on(qubits[0],qubits[1]))\n",
    "circuit\n",
    "\n"
   ]
  },
  {
   "cell_type": "markdown",
   "metadata": {
    "id": "VPD1yfzHd06Y"
   },
   "source": [
    "In the printed circuit above, It could be observed the operation (A), target is q0, and controlled qubit is q2, before that we aplied hadamard on all our qubits to create superposition"
   ]
  },
  {
   "cell_type": "markdown",
   "metadata": {
    "id": "Aw2W6p6YeTiR"
   },
   "source": [
    "Now is the time to apply control rotation on vector b using Ry, but first defining theta is needed. Then applying controlled rotations based on b.\n",
    "So, the way to find theta is using this code theta=np.arccos(b[0]/np.linalg.norm(b))  which could be break down as such:\n",
    "np.linalg.norm(b) computes the Euclidean norm (magnitude) of the vector b. This is essentially the length of the vector.\n",
    "b[0] / np.linalg.norm(b):\n",
    "This expression computes the ratio of the first component of the vector b to the magnitude (norm) of the vector b. This ratio is essentially the cosine of the angle θ between the vector b and the x-axis (or the direction of the first axis in the coordinate system).\n",
    "np.arccos is the inverse cosine function, which returns the angle θ (in radians) whose cosine is the given value. The result will be in the range of 0 to π (i.e.,\n",
    "0\n",
    "≤\n",
    "θ\n",
    "≤\n",
    "π\n",
    "0≤θ≤π).\n",
    "This function takes the ratio b[0] / np.linalg.norm(b) (which must lie between -1 and 1) and computes the corresponding angle. So the The code computes the angle θ between the vector b and the x-axis in a 2D or higher-dimensional space.\n",
    "Specifically, it calculates the angle of b in the plane formed by the vector and the x-axis, assuming that b[0] corresponds to the x-component of b (the first component)."
   ]
  },
  {
   "cell_type": "code",
   "execution_count": 22,
   "metadata": {
    "colab": {
     "base_uri": "https://localhost:8080/",
     "height": 153
    },
    "id": "fFiW6RIUbAIJ",
    "outputId": "1148d4f6-c31b-42fa-8203-407145e689c0"
   },
   "outputs": [
    {
     "data": {
      "text/html": [
       "<pre style=\"overflow: auto; white-space: pre;\">q0: ───H───@───────@───────\n",
       "           │       │\n",
       "           ┌   ┐   │\n",
       "q1: ───H───│1 0│───┼───────\n",
       "           │0 1│   │\n",
       "           └   ┘   │\n",
       "                   │\n",
       "q2: ───H───────────Ry(0)───</pre>"
      ],
      "text/plain": [
       "q0: ───H───@───────@───────\n",
       "           │       │\n",
       "           ┌   ┐   │\n",
       "q1: ───H───│1 0│───┼───────\n",
       "           │0 1│   │\n",
       "           └   ┘   │\n",
       "                   │\n",
       "q2: ───H───────────Ry(0)───"
      ]
     },
     "execution_count": 22,
     "metadata": {},
     "output_type": "execute_result"
    }
   ],
   "source": [
    "theta=np.arccos(b[0]/np.linalg.norm(b))  #finding Arccos, by dividing the b[0] to addition of all values on major diagonal\n",
    "circuit.append(cirq.ry(2*theta).controlled().on(qubits[0],qubits[2])) # apply controlled rotation based on b\n",
    "circuit"
   ]
  },
  {
   "cell_type": "code",
   "execution_count": 24,
   "metadata": {
    "colab": {
     "base_uri": "https://localhost:8080/",
     "height": 153
    },
    "id": "HPv9QZMQfNeE",
    "outputId": "8caa71d5-5ea3-49e2-eb80-3473732533c9"
   },
   "outputs": [
    {
     "data": {
      "text/html": [
       "<pre style=\"overflow: auto; white-space: pre;\">q0: ───H───@───────@───────M(&#x27;QLD.results&#x27;)───\n",
       "           │       │       │\n",
       "           ┌   ┐   │       │\n",
       "q1: ───H───│1 0│───┼───────M──────────────────\n",
       "           │0 1│   │       │\n",
       "           └   ┘   │       │\n",
       "                   │       │\n",
       "q2: ───H───────────Ry(0)───M──────────────────</pre>"
      ],
      "text/plain": [
       "q0: ───H───@───────@───────M('QLD.results')───\n",
       "           │       │       │\n",
       "           ┌   ┐   │       │\n",
       "q1: ───H───│1 0│───┼───────M──────────────────\n",
       "           │0 1│   │       │\n",
       "           └   ┘   │       │\n",
       "                   │       │\n",
       "q2: ───H───────────Ry(0)───M──────────────────"
      ]
     },
     "execution_count": 24,
     "metadata": {},
     "output_type": "execute_result"
    }
   ],
   "source": [
    "#Doing measurements on all of our qubits:\n",
    "circuit.append(cirq.measure(*qubits, key= \"QLD.results\"))\n",
    "circuit"
   ]
  },
  {
   "cell_type": "code",
   "execution_count": 25,
   "metadata": {
    "colab": {
     "base_uri": "https://localhost:8080/"
    },
    "id": "2o7yI8-corzD",
    "outputId": "adf0c923-c71d-47fe-de74-a0de8efcbf91"
   },
   "outputs": [
    {
     "name": "stdout",
     "output_type": "stream",
     "text": [
      "q0: ───H───@───────@───────M('QLD.results')───\n",
      "           │       │       │\n",
      "           ┌   ┐   │       │\n",
      "q1: ───H───│1 0│───┼───────M──────────────────\n",
      "           │0 1│   │       │\n",
      "           └   ┘   │       │\n",
      "                   │       │\n",
      "q2: ───H───────────Ry(0)───M──────────────────\n",
      "Counter({6: 153, 1: 133, 2: 128, 5: 123, 4: 121, 3: 121, 0: 119, 7: 102})\n"
     ]
    }
   ],
   "source": [
    "#simulator:\n",
    "sim=cirq.Simulator()\n",
    "r=sim.run(circuit,repetitions=10**3)\n",
    "print(circuit)\n",
    "print(r.histogram(key='QLD.results'))\n"
   ]
  },
  {
   "cell_type": "code",
   "execution_count": 26,
   "metadata": {
    "colab": {
     "base_uri": "https://localhost:8080/",
     "height": 451
    },
    "id": "pmqK6KUDphX5",
    "outputId": "366177d9-4a67-4c35-82b6-a72811a0a193"
   },
   "outputs": [
    {
     "data": {
      "text/plain": [
       "<BarContainer object of 8 artists>"
      ]
     },
     "execution_count": 26,
     "metadata": {},
     "output_type": "execute_result"
    },
    {
     "data": {
      "image/png": "[encoded data removed]",
      "text/plain": [
       "<Figure size 640x480 with 1 Axes>"
      ]
     },
     "metadata": {},
     "output_type": "display_data"
    }
   ],
   "source": [
    "import matplotlib.pyplot as plt\n",
    "plt.bar(r.histogram(key='QLD.results').keys(),r.histogram(key='QLD.results').values())"
   ]
  },
  {
   "cell_type": "code",
   "execution_count": 27,
   "metadata": {
    "colab": {
     "base_uri": "https://localhost:8080/",
     "height": 451
    },
    "id": "gmKzP_xBpvhG",
    "outputId": "c14d8434-1c8c-441d-a627-f6df48d49b54"
   },
   "outputs": [
    {
     "data": {
      "text/plain": [
       "<BarContainer object of 8 artists>"
      ]
     },
     "execution_count": 27,
     "metadata": {},
     "output_type": "execute_result"
    },
    {
     "data": {
      "image/png": "[encoded data removed]",
      "text/plain": [
       "<Figure size 640x480 with 1 Axes>"
      ]
     },
     "metadata": {},
     "output_type": "display_data"
    }
   ],
   "source": [
    "#OR could do the plot differently as such:\n",
    "x=r.histogram(key='QLD.results').keys()\n",
    "y=r.histogram(key='QLD.results').values()\n",
    "plt.bar(x,y)"
   ]
  },
  {
   "cell_type": "markdown",
   "metadata": {
    "id": "lc6ehwZiqQOu"
   },
   "source": [
    "given that all we did in these codes are oracle-based, the matrix we deal with, has to be unitary. Otherwise, we would get an error. So, for having everything uniary, we need to observe normalization for our data, and making sure that the matrix is unitary. So, there are limitations for HHL, and QLR,that we should watch out for them."
   ]
  }
 ],
 "metadata": {
  "colab": {
   "provenance": []
  },
  "kernelspec": {
   "display_name": "Python 3 (ipykernel)",
   "language": "python",
   "name": "python3"
  },
  "language_info": {
   "codemirror_mode": {
    "name": "ipython",
    "version": 3
   },
   "file_extension": ".py",
   "mimetype": "text/x-python",
   "name": "python",
   "nbconvert_exporter": "python",
   "pygments_lexer": "ipython3",
   "version": "3.10.9"
  }
 },
 "nbformat": 4,
 "nbformat_minor": 1
}

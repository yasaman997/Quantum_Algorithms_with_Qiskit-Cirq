{
 "cells": [
  {
   "cell_type": "markdown",
   "metadata": {
    "id": "_QquqCbyrfLm"
   },
   "source": [
    "#Quantum Suppport Vector Machine (QSVM)"
   ]
  },
  {
   "cell_type": "code",
   "execution_count": 6,
   "metadata": {
    "colab": {
     "base_uri": "https://localhost:8080/"
    },
    "id": "SaNP6QC0rbUx",
    "outputId": "9fded7a4-1caf-4983-a1ac-8f1e8a47e732"
   },
   "outputs": [
    {
     "name": "stdout",
     "output_type": "stream",
     "text": [
      "Collecting cirq\n",
      "  Downloading cirq-1.4.1-py3-none-any.whl.metadata (7.4 kB)\n",
      "Collecting cirq-aqt==1.4.1 (from cirq)\n",
      "  Downloading cirq_aqt-1.4.1-py3-none-any.whl.metadata (1.6 kB)\n",
      "Collecting cirq-core==1.4.1 (from cirq)\n",
      "  Downloading cirq_core-1.4.1-py3-none-any.whl.metadata (1.8 kB)\n",
      "Collecting cirq-google==1.4.1 (from cirq)\n",
      "  Downloading cirq_google-1.4.1-py3-none-any.whl.metadata (2.0 kB)\n",
      "Collecting cirq-ionq==1.4.1 (from cirq)\n",
      "  Downloading cirq_ionq-1.4.1-py3-none-any.whl.metadata (1.6 kB)\n",
      "Collecting cirq-pasqal==1.4.1 (from cirq)\n",
      "  Downloading cirq_pasqal-1.4.1-py3-none-any.whl.metadata (1.6 kB)\n",
      "Collecting cirq-rigetti==1.4.1 (from cirq)\n",
      "  Downloading cirq_rigetti-1.4.1-py3-none-any.whl.metadata (1.7 kB)\n",
      "Collecting cirq-web==1.4.1 (from cirq)\n",
      "  Downloading cirq_web-1.4.1-py3-none-any.whl.metadata (2.6 kB)\n",
      "Requirement already satisfied: requests~=2.18 in /usr/local/lib/python3.10/dist-packages (from cirq-aqt==1.4.1->cirq) (2.32.3)\n",
      "Requirement already satisfied: attrs>=21.3.0 in /usr/local/lib/python3.10/dist-packages (from cirq-core==1.4.1->cirq) (24.3.0)\n",
      "Collecting duet>=0.2.8 (from cirq-core==1.4.1->cirq)\n",
      "  Downloading duet-0.2.9-py3-none-any.whl.metadata (2.3 kB)\n",
      "Requirement already satisfied: matplotlib~=3.0 in /usr/local/lib/python3.10/dist-packages (from cirq-core==1.4.1->cirq) (3.8.0)\n",
      "Requirement already satisfied: networkx>=2.4 in /usr/local/lib/python3.10/dist-packages (from cirq-core==1.4.1->cirq) (3.4.2)\n",
      "Requirement already satisfied: numpy~=1.22 in /usr/local/lib/python3.10/dist-packages (from cirq-core==1.4.1->cirq) (1.26.4)\n",
      "Requirement already satisfied: pandas in /usr/local/lib/python3.10/dist-packages (from cirq-core==1.4.1->cirq) (2.2.2)\n",
      "Collecting sortedcontainers~=2.0 (from cirq-core==1.4.1->cirq)\n",
      "  Downloading sortedcontainers-2.4.0-py2.py3-none-any.whl.metadata (10 kB)\n",
      "Requirement already satisfied: scipy~=1.0 in /usr/local/lib/python3.10/dist-packages (from cirq-core==1.4.1->cirq) (1.13.1)\n",
      "Requirement already satisfied: sympy in /usr/local/lib/python3.10/dist-packages (from cirq-core==1.4.1->cirq) (1.13.1)\n",
      "Requirement already satisfied: typing-extensions>=4.2 in /usr/local/lib/python3.10/dist-packages (from cirq-core==1.4.1->cirq) (4.12.2)\n",
      "Requirement already satisfied: tqdm in /usr/local/lib/python3.10/dist-packages (from cirq-core==1.4.1->cirq) (4.67.1)\n",
      "Requirement already satisfied: google-api-core>=1.14.0 in /usr/local/lib/python3.10/dist-packages (from google-api-core[grpc]>=1.14.0->cirq-google==1.4.1->cirq) (2.19.2)\n",
      "Requirement already satisfied: proto-plus>=1.20.0 in /usr/local/lib/python3.10/dist-packages (from cirq-google==1.4.1->cirq) (1.25.0)\n",
      "Requirement already satisfied: protobuf<5.0.0,>=3.15.0 in /usr/local/lib/python3.10/dist-packages (from cirq-google==1.4.1->cirq) (4.25.5)\n",
      "Collecting pyquil<5.0.0,>=4.11.0 (from cirq-rigetti==1.4.1->cirq)\n",
      "  Downloading pyquil-4.15.0-py3-none-any.whl.metadata (10 kB)\n",
      "Requirement already satisfied: googleapis-common-protos<2.0.dev0,>=1.56.2 in /usr/local/lib/python3.10/dist-packages (from google-api-core>=1.14.0->google-api-core[grpc]>=1.14.0->cirq-google==1.4.1->cirq) (1.66.0)\n",
      "Requirement already satisfied: google-auth<3.0.dev0,>=2.14.1 in /usr/local/lib/python3.10/dist-packages (from google-api-core>=1.14.0->google-api-core[grpc]>=1.14.0->cirq-google==1.4.1->cirq) (2.27.0)\n",
      "Requirement already satisfied: grpcio<2.0dev,>=1.33.2 in /usr/local/lib/python3.10/dist-packages (from google-api-core[grpc]>=1.14.0->cirq-google==1.4.1->cirq) (1.68.1)\n",
      "Requirement already satisfied: grpcio-status<2.0.dev0,>=1.33.2 in /usr/local/lib/python3.10/dist-packages (from google-api-core[grpc]>=1.14.0->cirq-google==1.4.1->cirq) (1.62.3)\n",
      "Requirement already satisfied: contourpy>=1.0.1 in /usr/local/lib/python3.10/dist-packages (from matplotlib~=3.0->cirq-core==1.4.1->cirq) (1.3.1)\n",
      "Requirement already satisfied: cycler>=0.10 in /usr/local/lib/python3.10/dist-packages (from matplotlib~=3.0->cirq-core==1.4.1->cirq) (0.12.1)\n",
      "Requirement already satisfied: fonttools>=4.22.0 in /usr/local/lib/python3.10/dist-packages (from matplotlib~=3.0->cirq-core==1.4.1->cirq) (4.55.3)\n",
      "Requirement already satisfied: kiwisolver>=1.0.1 in /usr/local/lib/python3.10/dist-packages (from matplotlib~=3.0->cirq-core==1.4.1->cirq) (1.4.7)\n",
      "Requirement already satisfied: packaging>=20.0 in /usr/local/lib/python3.10/dist-packages (from matplotlib~=3.0->cirq-core==1.4.1->cirq) (24.2)\n",
      "Requirement already satisfied: pillow>=6.2.0 in /usr/local/lib/python3.10/dist-packages (from matplotlib~=3.0->cirq-core==1.4.1->cirq) (11.0.0)\n",
      "Requirement already satisfied: pyparsing>=2.3.1 in /usr/local/lib/python3.10/dist-packages (from matplotlib~=3.0->cirq-core==1.4.1->cirq) (3.2.0)\n",
      "Requirement already satisfied: python-dateutil>=2.7 in /usr/local/lib/python3.10/dist-packages (from matplotlib~=3.0->cirq-core==1.4.1->cirq) (2.8.2)\n",
      "Requirement already satisfied: deprecated<2.0.0,>=1.2.14 in /usr/local/lib/python3.10/dist-packages (from pyquil<5.0.0,>=4.11.0->cirq-rigetti==1.4.1->cirq) (1.2.15)\n",
      "Requirement already satisfied: matplotlib-inline<0.2.0,>=0.1.7 in /usr/local/lib/python3.10/dist-packages (from pyquil<5.0.0,>=4.11.0->cirq-rigetti==1.4.1->cirq) (0.1.7)\n",
      "Collecting packaging>=20.0 (from matplotlib~=3.0->cirq-core==1.4.1->cirq)\n",
      "  Downloading packaging-23.2-py3-none-any.whl.metadata (3.2 kB)\n",
      "Collecting qcs-sdk-python>=0.20.1 (from pyquil<5.0.0,>=4.11.0->cirq-rigetti==1.4.1->cirq)\n",
      "  Downloading qcs_sdk_python-0.21.6-cp310-cp310-manylinux_2_28_x86_64.whl.metadata (7.0 kB)\n",
      "Collecting quil>=0.13.2 (from pyquil<5.0.0,>=4.11.0->cirq-rigetti==1.4.1->cirq)\n",
      "  Downloading quil-0.13.2-cp310-cp310-manylinux_2_17_x86_64.manylinux2014_x86_64.whl.metadata (1.8 kB)\n",
      "Collecting rpcq<4.0.0,>=3.11.0 (from pyquil<5.0.0,>=4.11.0->cirq-rigetti==1.4.1->cirq)\n",
      "  Downloading rpcq-3.11.0.tar.gz (45 kB)\n",
      "\u001b[2K     \u001b[90m━━━━━━━━━━━━━━━━━━━━━━━━━━━━━━━━━━━━━━━━\u001b[0m \u001b[32m45.6/45.6 kB\u001b[0m \u001b[31m3.6 MB/s\u001b[0m eta \u001b[36m0:00:00\u001b[0m\n",
      "\u001b[?25h  Preparing metadata (setup.py) ... \u001b[?25l\u001b[?25hdone\n",
      "Collecting types-deprecated<2.0.0.0,>=1.2.9.3 (from pyquil<5.0.0,>=4.11.0->cirq-rigetti==1.4.1->cirq)\n",
      "  Downloading types_Deprecated-1.2.15.20241117-py3-none-any.whl.metadata (1.8 kB)\n",
      "Requirement already satisfied: charset-normalizer<4,>=2 in /usr/local/lib/python3.10/dist-packages (from requests~=2.18->cirq-aqt==1.4.1->cirq) (3.4.0)\n",
      "Requirement already satisfied: idna<4,>=2.5 in /usr/local/lib/python3.10/dist-packages (from requests~=2.18->cirq-aqt==1.4.1->cirq) (3.10)\n",
      "Requirement already satisfied: urllib3<3,>=1.21.1 in /usr/local/lib/python3.10/dist-packages (from requests~=2.18->cirq-aqt==1.4.1->cirq) (2.2.3)\n",
      "Requirement already satisfied: certifi>=2017.4.17 in /usr/local/lib/python3.10/dist-packages (from requests~=2.18->cirq-aqt==1.4.1->cirq) (2024.12.14)\n",
      "Requirement already satisfied: pytz>=2020.1 in /usr/local/lib/python3.10/dist-packages (from pandas->cirq-core==1.4.1->cirq) (2024.2)\n",
      "Requirement already satisfied: tzdata>=2022.7 in /usr/local/lib/python3.10/dist-packages (from pandas->cirq-core==1.4.1->cirq) (2024.2)\n",
      "Requirement already satisfied: mpmath<1.4,>=1.1.0 in /usr/local/lib/python3.10/dist-packages (from sympy->cirq-core==1.4.1->cirq) (1.3.0)\n",
      "Requirement already satisfied: wrapt<2,>=1.10 in /usr/local/lib/python3.10/dist-packages (from deprecated<2.0.0,>=1.2.14->pyquil<5.0.0,>=4.11.0->cirq-rigetti==1.4.1->cirq) (1.17.0)\n",
      "Requirement already satisfied: cachetools<6.0,>=2.0.0 in /usr/local/lib/python3.10/dist-packages (from google-auth<3.0.dev0,>=2.14.1->google-api-core>=1.14.0->google-api-core[grpc]>=1.14.0->cirq-google==1.4.1->cirq) (5.5.0)\n",
      "Requirement already satisfied: pyasn1-modules>=0.2.1 in /usr/local/lib/python3.10/dist-packages (from google-auth<3.0.dev0,>=2.14.1->google-api-core>=1.14.0->google-api-core[grpc]>=1.14.0->cirq-google==1.4.1->cirq) (0.4.1)\n",
      "Requirement already satisfied: rsa<5,>=3.1.4 in /usr/local/lib/python3.10/dist-packages (from google-auth<3.0.dev0,>=2.14.1->google-api-core>=1.14.0->google-api-core[grpc]>=1.14.0->cirq-google==1.4.1->cirq) (4.9)\n",
      "Requirement already satisfied: traitlets in /usr/local/lib/python3.10/dist-packages (from matplotlib-inline<0.2.0,>=0.1.7->pyquil<5.0.0,>=4.11.0->cirq-rigetti==1.4.1->cirq) (5.7.1)\n",
      "Requirement already satisfied: six>=1.5 in /usr/local/lib/python3.10/dist-packages (from python-dateutil>=2.7->matplotlib~=3.0->cirq-core==1.4.1->cirq) (1.17.0)\n",
      "Collecting qcs-api-client-common>=0.10.0 (from qcs-sdk-python>=0.20.1->pyquil<5.0.0,>=4.11.0->cirq-rigetti==1.4.1->cirq)\n",
      "  Downloading qcs_api_client_common-0.10.0-cp310-cp310-manylinux_2_28_x86_64.whl.metadata (2.5 kB)\n",
      "Requirement already satisfied: msgpack<2.0,>=0.6 in /usr/local/lib/python3.10/dist-packages (from rpcq<4.0.0,>=3.11.0->pyquil<5.0.0,>=4.11.0->cirq-rigetti==1.4.1->cirq) (1.1.0)\n",
      "Collecting python-rapidjson (from rpcq<4.0.0,>=3.11.0->pyquil<5.0.0,>=4.11.0->cirq-rigetti==1.4.1->cirq)\n",
      "  Downloading python_rapidjson-1.20-cp310-cp310-manylinux_2_17_x86_64.manylinux2014_x86_64.whl.metadata (22 kB)\n",
      "Requirement already satisfied: pyzmq>=17 in /usr/local/lib/python3.10/dist-packages (from rpcq<4.0.0,>=3.11.0->pyquil<5.0.0,>=4.11.0->cirq-rigetti==1.4.1->cirq) (24.0.1)\n",
      "Collecting ruamel.yaml (from rpcq<4.0.0,>=3.11.0->pyquil<5.0.0,>=4.11.0->cirq-rigetti==1.4.1->cirq)\n",
      "  Downloading ruamel.yaml-0.18.6-py3-none-any.whl.metadata (23 kB)\n",
      "Requirement already satisfied: pyasn1<0.7.0,>=0.4.6 in /usr/local/lib/python3.10/dist-packages (from pyasn1-modules>=0.2.1->google-auth<3.0.dev0,>=2.14.1->google-api-core>=1.14.0->google-api-core[grpc]>=1.14.0->cirq-google==1.4.1->cirq) (0.6.1)\n",
      "Collecting grpc-interceptor>=0.15.0 (from qcs-api-client-common>=0.10.0->qcs-sdk-python>=0.20.1->pyquil<5.0.0,>=4.11.0->cirq-rigetti==1.4.1->cirq)\n",
      "  Downloading grpc_interceptor-0.15.4-py3-none-any.whl.metadata (8.4 kB)\n",
      "Requirement already satisfied: httpx>=0.27.0 in /usr/local/lib/python3.10/dist-packages (from qcs-api-client-common>=0.10.0->qcs-sdk-python>=0.20.1->pyquil<5.0.0,>=4.11.0->cirq-rigetti==1.4.1->cirq) (0.28.1)\n",
      "Collecting ruamel.yaml.clib>=0.2.7 (from ruamel.yaml->rpcq<4.0.0,>=3.11.0->pyquil<5.0.0,>=4.11.0->cirq-rigetti==1.4.1->cirq)\n",
      "  Downloading ruamel.yaml.clib-0.2.12-cp310-cp310-manylinux_2_17_x86_64.manylinux2014_x86_64.whl.metadata (2.7 kB)\n",
      "Requirement already satisfied: anyio in /usr/local/lib/python3.10/dist-packages (from httpx>=0.27.0->qcs-api-client-common>=0.10.0->qcs-sdk-python>=0.20.1->pyquil<5.0.0,>=4.11.0->cirq-rigetti==1.4.1->cirq) (3.7.1)\n",
      "Requirement already satisfied: httpcore==1.* in /usr/local/lib/python3.10/dist-packages (from httpx>=0.27.0->qcs-api-client-common>=0.10.0->qcs-sdk-python>=0.20.1->pyquil<5.0.0,>=4.11.0->cirq-rigetti==1.4.1->cirq) (1.0.7)\n",
      "Requirement already satisfied: h11<0.15,>=0.13 in /usr/local/lib/python3.10/dist-packages (from httpcore==1.*->httpx>=0.27.0->qcs-api-client-common>=0.10.0->qcs-sdk-python>=0.20.1->pyquil<5.0.0,>=4.11.0->cirq-rigetti==1.4.1->cirq) (0.14.0)\n",
      "Requirement already satisfied: sniffio>=1.1 in /usr/local/lib/python3.10/dist-packages (from anyio->httpx>=0.27.0->qcs-api-client-common>=0.10.0->qcs-sdk-python>=0.20.1->pyquil<5.0.0,>=4.11.0->cirq-rigetti==1.4.1->cirq) (1.3.1)\n",
      "Requirement already satisfied: exceptiongroup in /usr/local/lib/python3.10/dist-packages (from anyio->httpx>=0.27.0->qcs-api-client-common>=0.10.0->qcs-sdk-python>=0.20.1->pyquil<5.0.0,>=4.11.0->cirq-rigetti==1.4.1->cirq) (1.2.2)\n",
      "Downloading cirq-1.4.1-py3-none-any.whl (8.0 kB)\n",
      "Downloading cirq_aqt-1.4.1-py3-none-any.whl (30 kB)\n",
      "Downloading cirq_core-1.4.1-py3-none-any.whl (1.9 MB)\n",
      "\u001b[2K   \u001b[90m━━━━━━━━━━━━━━━━━━━━━━━━━━━━━━━━━━━━━━━━\u001b[0m \u001b[32m1.9/1.9 MB\u001b[0m \u001b[31m56.5 MB/s\u001b[0m eta \u001b[36m0:00:00\u001b[0m\n",
      "\u001b[?25hDownloading cirq_google-1.4.1-py3-none-any.whl (532 kB)\n",
      "\u001b[2K   \u001b[90m━━━━━━━━━━━━━━━━━━━━━━━━━━━━━━━━━━━━━━━━\u001b[0m \u001b[32m532.7/532.7 kB\u001b[0m \u001b[31m33.1 MB/s\u001b[0m eta \u001b[36m0:00:00\u001b[0m\n",
      "\u001b[?25hDownloading cirq_ionq-1.4.1-py3-none-any.whl (60 kB)\n",
      "\u001b[2K   \u001b[90m━━━━━━━━━━━━━━━━━━━━━━━━━━━━━━━━━━━━━━━━\u001b[0m \u001b[32m60.5/60.5 kB\u001b[0m \u001b[31m5.3 MB/s\u001b[0m eta \u001b[36m0:00:00\u001b[0m\n",
      "\u001b[?25hDownloading cirq_pasqal-1.4.1-py3-none-any.whl (31 kB)\n",
      "Downloading cirq_rigetti-1.4.1-py3-none-any.whl (69 kB)\n",
      "\u001b[2K   \u001b[90m━━━━━━━━━━━━━━━━━━━━━━━━━━━━━━━━━━━━━━━━\u001b[0m \u001b[32m69.3/69.3 kB\u001b[0m \u001b[31m6.5 MB/s\u001b[0m eta \u001b[36m0:00:00\u001b[0m\n",
      "\u001b[?25hDownloading cirq_web-1.4.1-py3-none-any.whl (596 kB)\n",
      "\u001b[2K   \u001b[90m━━━━━━━━━━━━━━━━━━━━━━━━━━━━━━━━━━━━━━━━\u001b[0m \u001b[32m596.5/596.5 kB\u001b[0m \u001b[31m36.3 MB/s\u001b[0m eta \u001b[36m0:00:00\u001b[0m\n",
      "\u001b[?25hDownloading duet-0.2.9-py3-none-any.whl (29 kB)\n",
      "Downloading pyquil-4.15.0-py3-none-any.whl (202 kB)\n",
      "\u001b[2K   \u001b[90m━━━━━━━━━━━━━━━━━━━━━━━━━━━━━━━━━━━━━━━━\u001b[0m \u001b[32m202.9/202.9 kB\u001b[0m \u001b[31m17.0 MB/s\u001b[0m eta \u001b[36m0:00:00\u001b[0m\n",
      "\u001b[?25hDownloading sortedcontainers-2.4.0-py2.py3-none-any.whl (29 kB)\n",
      "Downloading packaging-23.2-py3-none-any.whl (53 kB)\n",
      "\u001b[2K   \u001b[90m━━━━━━━━━━━━━━━━━━━━━━━━━━━━━━━━━━━━━━━━\u001b[0m \u001b[32m53.0/53.0 kB\u001b[0m \u001b[31m4.5 MB/s\u001b[0m eta \u001b[36m0:00:00\u001b[0m\n",
      "\u001b[?25hDownloading qcs_sdk_python-0.21.6-cp310-cp310-manylinux_2_28_x86_64.whl (6.4 MB)\n",
      "\u001b[2K   \u001b[90m━━━━━━━━━━━━━━━━━━━━━━━━━━━━━━━━━━━━━━━━\u001b[0m \u001b[32m6.4/6.4 MB\u001b[0m \u001b[31m81.1 MB/s\u001b[0m eta \u001b[36m0:00:00\u001b[0m\n",
      "\u001b[?25hDownloading quil-0.13.2-cp310-cp310-manylinux_2_17_x86_64.manylinux2014_x86_64.whl (2.2 MB)\n",
      "\u001b[2K   \u001b[90m━━━━━━━━━━━━━━━━━━━━━━━━━━━━━━━━━━━━━━━━\u001b[0m \u001b[32m2.2/2.2 MB\u001b[0m \u001b[31m69.8 MB/s\u001b[0m eta \u001b[36m0:00:00\u001b[0m\n",
      "\u001b[?25hDownloading types_Deprecated-1.2.15.20241117-py3-none-any.whl (3.8 kB)\n",
      "Downloading qcs_api_client_common-0.10.0-cp310-cp310-manylinux_2_28_x86_64.whl (2.9 MB)\n",
      "\u001b[2K   \u001b[90m━━━━━━━━━━━━━━━━━━━━━━━━━━━━━━━━━━━━━━━━\u001b[0m \u001b[32m2.9/2.9 MB\u001b[0m \u001b[31m78.0 MB/s\u001b[0m eta \u001b[36m0:00:00\u001b[0m\n",
      "\u001b[?25hDownloading python_rapidjson-1.20-cp310-cp310-manylinux_2_17_x86_64.manylinux2014_x86_64.whl (1.7 MB)\n",
      "\u001b[2K   \u001b[90m━━━━━━━━━━━━━━━━━━━━━━━━━━━━━━━━━━━━━━━━\u001b[0m \u001b[32m1.7/1.7 MB\u001b[0m \u001b[31m64.2 MB/s\u001b[0m eta \u001b[36m0:00:00\u001b[0m\n",
      "\u001b[?25hDownloading ruamel.yaml-0.18.6-py3-none-any.whl (117 kB)\n",
      "\u001b[2K   \u001b[90m━━━━━━━━━━━━━━━━━━━━━━━━━━━━━━━━━━━━━━━━\u001b[0m \u001b[32m117.8/117.8 kB\u001b[0m \u001b[31m9.5 MB/s\u001b[0m eta \u001b[36m0:00:00\u001b[0m\n",
      "\u001b[?25hDownloading grpc_interceptor-0.15.4-py3-none-any.whl (20 kB)\n",
      "Downloading ruamel.yaml.clib-0.2.12-cp310-cp310-manylinux_2_17_x86_64.manylinux2014_x86_64.whl (722 kB)\n",
      "\u001b[2K   \u001b[90m━━━━━━━━━━━━━━━━━━━━━━━━━━━━━━━━━━━━━━━━\u001b[0m \u001b[32m722.2/722.2 kB\u001b[0m \u001b[31m43.5 MB/s\u001b[0m eta \u001b[36m0:00:00\u001b[0m\n",
      "\u001b[?25hBuilding wheels for collected packages: rpcq\n",
      "  Building wheel for rpcq (setup.py) ... \u001b[?25l\u001b[?25hdone\n",
      "  Created wheel for rpcq: filename=rpcq-3.11.0-py3-none-any.whl size=45967 sha256=39d0e81d47925b9e4ee183feb99aee73b7ec057fcbff9de5f325248f249f70b6\n",
      "  Stored in directory: /root/.cache/pip/wheels/91/97/0a/b384d94155345284ec00712ab814cbfb5bc2b631080b4fa4c3\n",
      "Successfully built rpcq\n",
      "Installing collected packages: sortedcontainers, types-deprecated, ruamel.yaml.clib, quil, python-rapidjson, packaging, grpc-interceptor, duet, ruamel.yaml, rpcq, qcs-api-client-common, cirq-core, qcs-sdk-python, cirq-web, cirq-pasqal, cirq-ionq, cirq-aqt, pyquil, cirq-google, cirq-rigetti, cirq\n",
      "  Attempting uninstall: packaging\n",
      "    Found existing installation: packaging 24.2\n",
      "    Uninstalling packaging-24.2:\n",
      "      Successfully uninstalled packaging-24.2\n",
      "Successfully installed cirq-1.4.1 cirq-aqt-1.4.1 cirq-core-1.4.1 cirq-google-1.4.1 cirq-ionq-1.4.1 cirq-pasqal-1.4.1 cirq-rigetti-1.4.1 cirq-web-1.4.1 duet-0.2.9 grpc-interceptor-0.15.4 packaging-23.2 pyquil-4.15.0 python-rapidjson-1.20 qcs-api-client-common-0.10.0 qcs-sdk-python-0.21.6 quil-0.13.2 rpcq-3.11.0 ruamel.yaml-0.18.6 ruamel.yaml.clib-0.2.12 sortedcontainers-2.4.0 types-deprecated-1.2.15.20241117\n"
     ]
    }
   ],
   "source": [
    "!pip install cirq"
   ]
  },
  {
   "cell_type": "code",
   "execution_count": 23,
   "metadata": {
    "id": "k0a-7yA5rczd"
   },
   "outputs": [],
   "source": [
    "import cirq\n",
    "import numpy as np\n",
    "import matplotlib.pyplot as plt\n",
    "\n",
    "# we need to make a quantum ciruit that get the data, then we can make a quantum kernel for it:\n",
    "def create_quantum_circuit(data):\n",
    "  qubits=[cirq.GridQubit(i,0) for i in range(len(data))] # number of data= number of qubits\n",
    "  #for QSVM algorithm, we will have spaces as of number of our data points, and it will check similarity measure, then using kernel to create nonlinear state\n",
    "  circuit=cirq.Circuit()\n",
    "# because of using Grid, all data have index, so now we do this:\n",
    "  for i, value in enumerate(data):\n",
    "      circuit.append(cirq.rx(value).on(qubits[i]))\n",
    "  circuit.append(cirq.measure(*qubits,key=\"QSVM results\"))\n",
    "  return circuit, qubits\n",
    "def run_quantum_circuit(circuit, qubits, repetitions=10**2):\n",
    "  sim=cirq.Simulator()\n",
    "  r=sim.run(circuit, repetitions=10**2)\n",
    "  m=np.array(r.measurements['QSVM results'])\n",
    "  return m\n",
    "def quantum_kernel(x):\n",
    "  n_samples=x.shape[0]\n",
    "  kernel_matrix=np.zeros((n_samples, n_samples))\n",
    "\n",
    "  for i in range(n_samples):\n",
    "    for j in range(n_samples):\n",
    "      circuit, qubits=create_quantum_circuit(x[i]-x[j]) # getting output by kernel quantum function, that the create_quantum_circuit would take care of it.\n",
    "      m=run_quantum_circuit(circuit, qubits)\n",
    "      kernel_matrix[i,j]=np.mean(m)  # getting the expectation value of our measurements\n",
    "  return kernel_matrix\n"
   ]
  },
  {
   "cell_type": "markdown",
   "metadata": {
    "id": "lSVbpgvotsZ0"
   },
   "source": [
    "QSVM algorithm could be implemented in different ways, one way is shown above. In some cases, they create a Bell state to create maximum entanglement on data. Some are making the whole quantum algoritthm for QSVM, but in here we want to make quantum kernels, and we create qubits equal to number of data we have, so that we can check the similarity"
   ]
  },
  {
   "cell_type": "markdown",
   "metadata": {
    "id": "zJpCXHw-TBgv"
   },
   "source": [
    "Generating Data using make_classification : making clusters using gaussian functions"
   ]
  },
  {
   "cell_type": "code",
   "execution_count": 30,
   "metadata": {
    "colab": {
     "base_uri": "https://localhost:8080/"
    },
    "id": "Pw6zjNH7PKjP",
    "outputId": "3dd54fb4-ef01-4d52-c4b3-1e750a3449bf"
   },
   "outputs": [
    {
     "data": {
      "text/plain": [
       "(array([[-1.05383855, -1.02754411, -0.32929388,  0.82600732],\n",
       "        [ 1.56931739,  1.306542  , -0.23938468, -0.3313761 ],\n",
       "        [-0.35885569, -0.69102126, -1.22532865,  1.65214494],\n",
       "        [-0.1368559 ,  0.46093758,  1.89691056, -2.2813861 ],\n",
       "        [-0.04862909,  0.50230075,  1.77872961, -2.17105282],\n",
       "        [ 2.30450019,  1.33970234, -2.24075406,  1.83991037],\n",
       "        [-0.40925706,  0.32423734,  2.23245441, -2.58590856],\n",
       "        [-0.7173148 , -0.88602706, -0.83311649,  1.31217492],\n",
       "        [ 1.06173727,  1.05688647,  0.40238353, -0.91916686],\n",
       "        [ 1.48052803,  1.28131775, -0.06692233, -0.50833095],\n",
       "        [ 0.53479393,  0.21164583, -0.84389686,  0.82584805],\n",
       "        [ 1.38991764,  1.22541983,  0.01066604, -0.56772453],\n",
       "        [-1.79532002, -1.46361184,  0.37531604,  0.25415746],\n",
       "        [-1.26898369, -0.68933585,  1.39175475, -1.20757158],\n",
       "        [-1.56826626, -0.87306613,  1.65095783, -1.40735658],\n",
       "        [-0.42795824, -0.72216846, -1.12868571,  1.56070438],\n",
       "        [ 0.73644435,  0.28247903, -1.19137182,  1.17329352],\n",
       "        [-1.42922002, -1.29267194, -0.1173572 ,  0.71479373],\n",
       "        [ 0.49429823,  0.36783185, -0.21800395,  0.07123641],\n",
       "        [-1.32933233, -1.19300559, -0.07873421,  0.6273745 ],\n",
       "        [ 2.25661188,  1.17077461, -2.65461268,  2.36867367],\n",
       "        [-2.25553963, -1.69200458,  0.95057302, -0.27062383],\n",
       "        [-1.92487377, -1.11327862,  1.89033108, -1.5598485 ],\n",
       "        [-1.20592943, -0.64760425,  1.34700796, -1.17762637],\n",
       "        [-0.6795874 , -0.32683618,  0.8834691 , -0.81680628],\n",
       "        [ 0.13979096,  0.04668349, -0.24878048,  0.25058844],\n",
       "        [ 1.15509316,  0.56372286, -1.47487037,  1.35536951],\n",
       "        [-2.52343407, -1.45612516,  2.48904785, -2.05832072],\n",
       "        [-0.17593681,  0.44205183,  1.94742094, -2.3279946 ],\n",
       "        [-1.5332749 , -0.84467713,  1.6431949 , -1.4117586 ],\n",
       "        [-0.38919817, -0.67826129, -1.09662143,  1.50575249],\n",
       "        [-1.00544254, -1.05463759, -0.55658056,  1.08659413],\n",
       "        [-1.14658127, -1.10644979, -0.32066954,  0.85239186],\n",
       "        [ 0.08896214,  0.08714206,  0.0291022 , -0.07133524],\n",
       "        [-0.43131517, -0.74920203, -1.20727346,  1.65882246],\n",
       "        [ 2.38869353,  1.7240021 , -1.22823431,  0.55942643],\n",
       "        [ 0.88629356,  0.52576893, -0.82741596,  0.66530077],\n",
       "        [-1.57127256, -0.81296687,  1.85571007, -1.65830375],\n",
       "        [ 0.24472415, -0.45390127, -2.18347304,  2.59123946],\n",
       "        [ 0.55448398,  0.17593   , -1.01695056,  1.03110238],\n",
       "        [ 1.07954187,  0.50047696, -1.46447269,  1.3727107 ],\n",
       "        [ 1.19664076,  1.13446163,  0.26843823, -0.80804463],\n",
       "        [ 0.23085877,  0.64701888,  1.44901594, -1.87653774],\n",
       "        [-0.86023823, -0.39769634,  1.17059844, -1.09831681],\n",
       "        [ 0.01722979,  0.1094067 ,  0.30759353, -0.38566776],\n",
       "        [-1.08324727, -1.09939128, -0.47936995,  1.02255619],\n",
       "        [-0.95548162, -1.03260487, -0.62804104,  1.15466088],\n",
       "        [ 1.85605469,  1.46098002, -0.55818081, -0.05319823],\n",
       "        [-1.50077611, -1.2827436 ,  0.12037048,  0.4505902 ],\n",
       "        [-1.14054824, -0.63922566,  1.18674111, -1.00634985],\n",
       "        [-0.98021491, -1.03398089, -0.56156012,  1.08266027],\n",
       "        [-1.72067112, -0.99325144,  1.69607038, -1.40210053],\n",
       "        [ 0.86561977,  0.96335953,  0.65992405, -1.15806823],\n",
       "        [-1.73597973, -1.37111696,  0.50688537,  0.06845616],\n",
       "        [-0.11708689, -0.05396947,  0.15985512, -0.15013844],\n",
       "        [-0.53355799, -0.79864786, -1.07525068,  1.53703587],\n",
       "        [-1.20946429, -1.13714057, -0.24038388,  0.77861318],\n",
       "        [ 1.10009583,  1.09267506,  0.40910605, -0.94275087],\n",
       "        [ 0.36016958,  0.71768635,  1.30857636, -1.75518644],\n",
       "        [ 1.94087643,  0.88439534, -2.68317954,  2.52983424],\n",
       "        [ 0.89075877,  0.97650004,  0.63067073, -1.13207427],\n",
       "        [ 1.02703224,  0.63174629, -0.88541844,  0.68057323],\n",
       "        [ 1.25896077,  0.6635226 , -1.44723231,  1.2798899 ],\n",
       "        [ 0.68811892,  0.30446853, -0.9809438 ,  0.93343952],\n",
       "        [ 0.4176729 ,  0.73594772,  1.2031659 , -1.64832073],\n",
       "        [-1.43534875, -0.73426524,  1.72251306, -1.54851014],\n",
       "        [ 0.06194498,  0.55253544,  1.6253749 , -2.02632079],\n",
       "        [-0.72427983, -0.43066755,  0.67287309, -0.53963044],\n",
       "        [ 0.73019848,  0.88948365,  0.80742726, -1.28568005],\n",
       "        [-0.71352532, -0.84321213, -0.70426956,  1.15199146],\n",
       "        [-1.64060704, -0.94116325,  1.63631177, -1.36045573],\n",
       "        [ 1.28938375,  0.68720469, -1.45724683,  1.28008347],\n",
       "        [ 1.56010259,  1.30373602, -0.22210005, -0.34898484],\n",
       "        [ 0.54914434,  0.30877317, -0.56811307,  0.480502  ],\n",
       "        [ 0.55600276,  0.19375402, -0.96314239,  0.96423311],\n",
       "        [-1.61453273, -0.83806958,  1.89792447, -1.69302842],\n",
       "        [ 0.94800532,  0.99630897,  0.53104737, -1.03223274],\n",
       "        [ 1.74147706,  0.97687358, -1.80921926,  1.53313849],\n",
       "        [ 1.09180466,  0.55831966, -1.31089865,  1.17869556],\n",
       "        [-1.42695838, -0.756006  ,  1.62748917, -1.43483867],\n",
       "        [-0.48949935, -0.74717988, -1.03371682,  1.46830827],\n",
       "        [ 1.4991983 ,  0.77813969, -1.76254901,  1.57233676],\n",
       "        [-1.36716377, -0.7635164 ,  1.43140126, -1.21722043],\n",
       "        [ 1.18739045,  1.12210055,  0.254643  , -0.78736523],\n",
       "        [-1.51042899, -0.79383636,  1.74355119, -1.54446032],\n",
       "        [-0.02185231, -0.51103632, -1.60499282,  1.98522348],\n",
       "        [ 1.99805321,  1.51990078, -0.77336118,  0.15513175],\n",
       "        [-2.39955005, -1.3731412 ,  2.40437346, -2.00347738],\n",
       "        [ 1.25291095,  0.70385192, -1.29826331,  1.09885263],\n",
       "        [ 1.35970566,  0.84609208, -1.14052601,  0.86199147],\n",
       "        [ 0.62453032,  0.4057089 , -0.46809422,  0.32725188],\n",
       "        [-0.92169432, -0.97763681, -0.54561186,  1.03967019],\n",
       "        [ 0.25995672,  0.65574086,  1.3939833 , -1.82037691],\n",
       "        [-0.9311259 , -0.52878508,  0.94621814, -0.79371387],\n",
       "        [ 1.20852705,  1.1374615 ,  0.24412056, -0.78284083],\n",
       "        [-2.24181979, -1.24868955,  2.35790248, -2.00918545],\n",
       "        [ 0.57304248,  0.36205368, -0.46281432,  0.34129395],\n",
       "        [-0.3751207 , -0.14951801,  0.58846525, -0.57500215],\n",
       "        [ 1.59488828,  0.78025563, -2.0302233 ,  1.86378908],\n",
       "        [-0.14994102, -0.56603681, -1.41693293,  1.80474148]]),\n",
       " array([1, 0, 1, 0, 0, 1, 0, 1, 0, 0, 1, 0, 1, 0, 0, 1, 1, 1, 0, 1, 1, 1,\n",
       "        0, 0, 0, 1, 1, 0, 0, 0, 1, 1, 1, 0, 1, 0, 1, 0, 1, 1, 1, 0, 0, 0,\n",
       "        0, 1, 1, 0, 1, 0, 1, 0, 0, 1, 1, 1, 1, 0, 0, 1, 0, 1, 1, 1, 0, 0,\n",
       "        0, 0, 0, 1, 0, 1, 0, 1, 1, 0, 0, 1, 1, 0, 1, 1, 0, 0, 0, 1, 0, 0,\n",
       "        1, 1, 1, 1, 0, 0, 0, 0, 1, 0, 1, 1]))"
      ]
     },
     "execution_count": 30,
     "metadata": {},
     "output_type": "execute_result"
    }
   ],
   "source": [
    "from sklearn.datasets import make_classification\n",
    "from sklearn.svm import SVC  # for normalization\n",
    "from sklearn.preprocessing import StandardScaler\n",
    "\n",
    "x,y=make_classification(n_samples=100, n_features=4, n_informative=2,n_classes=2, random_state=42) #n_informative represents cluster states\n",
    "x,y"
   ]
  },
  {
   "cell_type": "code",
   "execution_count": 31,
   "metadata": {
    "colab": {
     "base_uri": "https://localhost:8080/"
    },
    "id": "dEMl9qc8UMBJ",
    "outputId": "c4ecbf31-561f-48c4-efc4-5937281ba135"
   },
   "outputs": [
    {
     "data": {
      "text/plain": [
       "array([[0.    , 0.47  , 0.085 , ..., 0.1725, 0.515 , 0.1075],\n",
       "       [0.485 , 0.    , 0.485 , ..., 0.29  , 0.2725, 0.485 ],\n",
       "       [0.075 , 0.49  , 0.    , ..., 0.27  , 0.29  , 0.0125],\n",
       "       ...,\n",
       "       [0.1625, 0.26  , 0.2625, ..., 0.    , 0.52  , 0.2625],\n",
       "       [0.4775, 0.3025, 0.2825, ..., 0.53  , 0.    , 0.2625],\n",
       "       [0.1175, 0.4925, 0.005 , ..., 0.31  , 0.26  , 0.    ]])"
      ]
     },
     "execution_count": 31,
     "metadata": {},
     "output_type": "execute_result"
    }
   ],
   "source": [
    "scale=StandardScaler()\n",
    "x=scale.fit_transform(x) # it normalize x for me\n",
    "\n",
    "quantum_kernel_matrix= quantum_kernel(x)\n",
    "quantum_kernel_matrix  # it returns the measure of similarity for us in here"
   ]
  },
  {
   "cell_type": "code",
   "execution_count": 32,
   "metadata": {
    "id": "bnD2__UoVpYG"
   },
   "outputs": [],
   "source": [
    "model=SVC(kernel='precomputed') #if using linear instead of precomputed, it would return itself (with precomputed, we're providing it with computed kernel values)\n",
    "model.fit(quantum_kernel_matrix, y) # our data is encoded in quantum manner here\n",
    "y_pred=model.predict(quantum_kernel_matrix)"
   ]
  },
  {
   "cell_type": "code",
   "execution_count": 33,
   "metadata": {
    "colab": {
     "base_uri": "https://localhost:8080/"
    },
    "id": "PBwMRlW8cUEg",
    "outputId": "8292e453-8e4a-4c8f-d11a-1d83c7337c97"
   },
   "outputs": [
    {
     "name": "stdout",
     "output_type": "stream",
     "text": [
      "Actual [1 0 1 0 0 1 0 1 0 0 1 0 1 0 0 1 1 1 0 1 1 1 0 0 0 1 1 0 0 0 1 1 1 0 1 0 1\n",
      " 0 1 1 1 0 0 0 0 1 1 0 1 0 1 0 0 1 1 1 1 0 0 1 0 1 1 1 0 0 0 0 0 1 0 1 0 1\n",
      " 1 0 0 1 1 0 1 1 0 0 0 1 0 0 1 1 1 1 0 0 0 0 1 0 1 1]\n",
      "Predicted [0 1 0 1 1 0 1 0 1 1 0 1 1 1 1 0 0 0 0 0 0 1 1 1 1 0 0 1 1 1 0 0 0 1 0 0 0\n",
      " 1 0 0 0 1 1 1 1 0 0 0 0 1 0 1 1 1 1 0 0 1 1 0 1 0 0 0 1 1 1 1 1 0 1 0 1 0\n",
      " 0 1 1 0 0 1 0 0 1 1 1 0 0 1 0 0 0 0 1 1 1 1 0 1 0 0]\n"
     ]
    }
   ],
   "source": [
    "print(\"Actual\", y)\n",
    "print(\"Predicted\", y_pred)"
   ]
  },
  {
   "cell_type": "code",
   "execution_count": 36,
   "metadata": {
    "colab": {
     "base_uri": "https://localhost:8080/",
     "height": 583
    },
    "id": "gOv8sQpya-tb",
    "outputId": "2cedecf5-a1dc-4908-eaaa-ffb67cc85592"
   },
   "outputs": [
    {
     "name": "stdout",
     "output_type": "stream",
     "text": [
      "              precision    recall  f1-score   support\n",
      "\n",
      "           0       0.08      0.08      0.08        50\n",
      "           1       0.08      0.08      0.08        50\n",
      "\n",
      "    accuracy                           0.08       100\n",
      "   macro avg       0.08      0.08      0.08       100\n",
      "weighted avg       0.08      0.08      0.08       100\n",
      "\n"
     ]
    },
    {
     "data": {
      "image/png": "[encoded data removed]",
      "text/plain": [
       "<Figure size 640x480 with 2 Axes>"
      ]
     },
     "metadata": {},
     "output_type": "display_data"
    }
   ],
   "source": [
    "from sklearn.metrics import confusion_matrix, classification_report\n",
    "import seaborn as sns\n",
    "sns.heatmap(confusion_matrix(y, y_pred), annot=True)\n",
    "print(classification_report(y, y_pred))"
   ]
  },
  {
   "cell_type": "code",
   "execution_count": 37,
   "metadata": {
    "colab": {
     "base_uri": "https://localhost:8080/",
     "height": 588
    },
    "id": "DCsob3Chd-eH",
    "outputId": "1c6042c8-6d38-48dd-d502-f7c7b7bdfea9"
   },
   "outputs": [
    {
     "name": "stdout",
     "output_type": "stream",
     "text": [
      "              precision    recall  f1-score   support\n",
      "\n",
      "           0       0.96      1.00      0.98        50\n",
      "           1       1.00      0.96      0.98        50\n",
      "\n",
      "    accuracy                           0.98       100\n",
      "   macro avg       0.98      0.98      0.98       100\n",
      "weighted avg       0.98      0.98      0.98       100\n",
      "\n"
     ]
    },
    {
     "data": {
      "image/png": "[encoded data removed]",
      "text/plain": [
       "<Figure size 640x480 with 2 Axes>"
      ]
     },
     "metadata": {},
     "output_type": "display_data"
    }
   ],
   "source": [
    "model=SVC(kernel='linear') # using linear instead of precomputed, it would return itself (with precomputed, we're providing it with computed kernel values)\n",
    "model.fit(quantum_kernel_matrix, y) # our data is encoded in quantum manner here\n",
    "y_pred=model.predict(quantum_kernel_matrix)\n",
    "from sklearn.metrics import confusion_matrix, classification_report\n",
    "import seaborn as sns\n",
    "sns.heatmap(confusion_matrix(y, y_pred), annot=True)\n",
    "print(classification_report(y, y_pred))"
   ]
  },
  {
   "cell_type": "code",
   "execution_count": 38,
   "metadata": {
    "colab": {
     "base_uri": "https://localhost:8080/",
     "height": 583
    },
    "id": "Emdl_ullr12R",
    "outputId": "631eb6bf-51e4-4104-a999-326fc54b8ccd"
   },
   "outputs": [
    {
     "name": "stdout",
     "output_type": "stream",
     "text": [
      "              precision    recall  f1-score   support\n",
      "\n",
      "           0       0.94      0.90      0.92        50\n",
      "           1       0.90      0.94      0.92        50\n",
      "\n",
      "    accuracy                           0.92       100\n",
      "   macro avg       0.92      0.92      0.92       100\n",
      "weighted avg       0.92      0.92      0.92       100\n",
      "\n"
     ]
    },
    {
     "data": {
      "image/png": "[encoded data removed]",
      "text/plain": [
       "<Figure size 640x480 with 2 Axes>"
      ]
     },
     "metadata": {},
     "output_type": "display_data"
    }
   ],
   "source": [
    "model=SVC(kernel='sigmoid') # using sigmoid here\n",
    "model.fit(quantum_kernel_matrix, y) # our data is encoded in quantum manner here\n",
    "y_pred=model.predict(quantum_kernel_matrix)\n",
    "from sklearn.metrics import confusion_matrix, classification_report\n",
    "import seaborn as sns\n",
    "sns.heatmap(confusion_matrix(y, y_pred), annot=True)\n",
    "print(classification_report(y, y_pred))"
   ]
  },
  {
   "cell_type": "markdown",
   "metadata": {
    "id": "7fgV2UFWsUYr"
   },
   "source": [
    "The point was to encode data on quantum space here.For QSVM, the quantum  Kernel could be linear and/or precomputed here."
   ]
  }
 ],
 "metadata": {
  "colab": {
   "provenance": []
  },
  "kernelspec": {
   "display_name": "Python 3 (ipykernel)",
   "language": "python",
   "name": "python3"
  },
  "language_info": {
   "codemirror_mode": {
    "name": "ipython",
    "version": 3
   },
   "file_extension": ".py",
   "mimetype": "text/x-python",
   "name": "python",
   "nbconvert_exporter": "python",
   "pygments_lexer": "ipython3",
   "version": "3.10.9"
  }
 },
 "nbformat": 4,
 "nbformat_minor": 1
}

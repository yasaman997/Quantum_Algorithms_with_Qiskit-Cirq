{
 "cells": [
  {
   "cell_type": "markdown",
   "id": "46c0b064",
   "metadata": {},
   "source": [
    "# Quantum Simulation"
   ]
  },
  {
   "cell_type": "code",
   "execution_count": 8,
   "id": "dfa22d0f",
   "metadata": {
    "scrolled": true
   },
   "outputs": [
    {
     "name": "stdout",
     "output_type": "stream",
     "text": [
      "Requirement already satisfied: qiskit in ./anaconda3/lib/python3.10/site-packages (1.2.0)\n",
      "Requirement already satisfied: ipywidgets in ./anaconda3/lib/python3.10/site-packages (8.1.1)\n",
      "Requirement already satisfied: symengine>=0.11 in ./anaconda3/lib/python3.10/site-packages (from qiskit) (0.11.0)\n",
      "Requirement already satisfied: scipy>=1.5 in ./anaconda3/lib/python3.10/site-packages (from qiskit) (1.10.0)\n",
      "Requirement already satisfied: typing-extensions in ./anaconda3/lib/python3.10/site-packages (from qiskit) (4.4.0)\n",
      "Requirement already satisfied: numpy<3,>=1.17 in ./anaconda3/lib/python3.10/site-packages (from qiskit) (1.26.0)\n",
      "Requirement already satisfied: stevedore>=3.0.0 in ./anaconda3/lib/python3.10/site-packages (from qiskit) (5.3.0)\n",
      "Requirement already satisfied: rustworkx>=0.15.0 in ./anaconda3/lib/python3.10/site-packages (from qiskit) (0.15.1)\n",
      "Requirement already satisfied: python-dateutil>=2.8.0 in ./anaconda3/lib/python3.10/site-packages (from qiskit) (2.8.2)\n",
      "Requirement already satisfied: dill>=0.3 in ./anaconda3/lib/python3.10/site-packages (from qiskit) (0.3.6)\n",
      "Requirement already satisfied: sympy>=1.3 in ./anaconda3/lib/python3.10/site-packages (from qiskit) (1.11.1)\n",
      "Requirement already satisfied: widgetsnbextension~=4.0.9 in ./anaconda3/lib/python3.10/site-packages (from ipywidgets) (4.0.9)\n",
      "Requirement already satisfied: jupyterlab-widgets~=3.0.9 in ./anaconda3/lib/python3.10/site-packages (from ipywidgets) (3.0.9)\n",
      "Requirement already satisfied: comm>=0.1.3 in ./anaconda3/lib/python3.10/site-packages (from ipywidgets) (0.2.0)\n",
      "Requirement already satisfied: ipython>=6.1.0 in ./anaconda3/lib/python3.10/site-packages (from ipywidgets) (8.10.0)\n",
      "Requirement already satisfied: traitlets>=4.3.1 in ./anaconda3/lib/python3.10/site-packages (from ipywidgets) (5.7.1)\n",
      "Requirement already satisfied: prompt-toolkit<3.1.0,>=3.0.30 in ./anaconda3/lib/python3.10/site-packages (from ipython>=6.1.0->ipywidgets) (3.0.36)\n",
      "Requirement already satisfied: appnope in ./anaconda3/lib/python3.10/site-packages (from ipython>=6.1.0->ipywidgets) (0.1.2)\n",
      "Requirement already satisfied: matplotlib-inline in ./anaconda3/lib/python3.10/site-packages (from ipython>=6.1.0->ipywidgets) (0.1.6)\n",
      "Requirement already satisfied: pygments>=2.4.0 in ./anaconda3/lib/python3.10/site-packages (from ipython>=6.1.0->ipywidgets) (2.16.1)\n",
      "Requirement already satisfied: pexpect>4.3 in ./anaconda3/lib/python3.10/site-packages (from ipython>=6.1.0->ipywidgets) (4.8.0)\n",
      "Requirement already satisfied: decorator in ./anaconda3/lib/python3.10/site-packages (from ipython>=6.1.0->ipywidgets) (5.1.1)\n",
      "Requirement already satisfied: jedi>=0.16 in ./anaconda3/lib/python3.10/site-packages (from ipython>=6.1.0->ipywidgets) (0.18.1)\n",
      "Requirement already satisfied: backcall in ./anaconda3/lib/python3.10/site-packages (from ipython>=6.1.0->ipywidgets) (0.2.0)\n",
      "Requirement already satisfied: pickleshare in ./anaconda3/lib/python3.10/site-packages (from ipython>=6.1.0->ipywidgets) (0.7.5)\n",
      "Requirement already satisfied: stack-data in ./anaconda3/lib/python3.10/site-packages (from ipython>=6.1.0->ipywidgets) (0.2.0)\n",
      "Requirement already satisfied: six>=1.5 in ./anaconda3/lib/python3.10/site-packages (from python-dateutil>=2.8.0->qiskit) (1.16.0)\n",
      "Requirement already satisfied: pbr>=2.0.0 in ./anaconda3/lib/python3.10/site-packages (from stevedore>=3.0.0->qiskit) (6.0.0)\n",
      "Requirement already satisfied: mpmath>=0.19 in ./anaconda3/lib/python3.10/site-packages/mpmath-1.2.1-py3.10.egg (from sympy>=1.3->qiskit) (1.2.1)\n",
      "Requirement already satisfied: parso<0.9.0,>=0.8.0 in ./anaconda3/lib/python3.10/site-packages (from jedi>=0.16->ipython>=6.1.0->ipywidgets) (0.8.3)\n",
      "Requirement already satisfied: ptyprocess>=0.5 in ./anaconda3/lib/python3.10/site-packages (from pexpect>4.3->ipython>=6.1.0->ipywidgets) (0.7.0)\n",
      "Requirement already satisfied: wcwidth in ./anaconda3/lib/python3.10/site-packages (from prompt-toolkit<3.1.0,>=3.0.30->ipython>=6.1.0->ipywidgets) (0.2.5)\n",
      "Requirement already satisfied: executing in ./anaconda3/lib/python3.10/site-packages (from stack-data->ipython>=6.1.0->ipywidgets) (0.8.3)\n",
      "Requirement already satisfied: pure-eval in ./anaconda3/lib/python3.10/site-packages (from stack-data->ipython>=6.1.0->ipywidgets) (0.2.2)\n",
      "Requirement already satisfied: asttokens in ./anaconda3/lib/python3.10/site-packages (from stack-data->ipython>=6.1.0->ipywidgets) (2.0.5)\n",
      "Requirement already satisfied: pylatexenc in ./anaconda3/lib/python3.10/site-packages (2.10)\n"
     ]
    }
   ],
   "source": [
    "!pip install qiskit ipywidgets\n",
    "!pip install pylatexenc"
   ]
  },
  {
   "cell_type": "code",
   "execution_count": 9,
   "id": "aaef539f",
   "metadata": {},
   "outputs": [
    {
     "data": {
      "image/png": "[encoded data removed]",
      "text/plain": [
       "<Figure size 454.517x284.278 with 1 Axes>"
      ]
     },
     "execution_count": 9,
     "metadata": {},
     "output_type": "execute_result"
    }
   ],
   "source": [
    "# first we wanna define a circuit with 2 qubits ( Bell-state flipped)\n",
    "from qiskit import QuantumCircuit\n",
    "qc=QuantumCircuit(2,2)\n",
    "qc.h(1)\n",
    "qc.cx(1,0)\n",
    "qc.measure([1,0],[1,0]) #qubit first,then classical bits \n",
    "qc.draw('mpl')"
   ]
  },
  {
   "cell_type": "code",
   "execution_count": 10,
   "id": "3ffa743a",
   "metadata": {},
   "outputs": [
    {
     "name": "stdout",
     "output_type": "stream",
     "text": [
      "Requirement already satisfied: qiskit-aer in ./anaconda3/lib/python3.10/site-packages (0.15.1)\n",
      "Requirement already satisfied: qiskit>=1.1.0 in ./anaconda3/lib/python3.10/site-packages (from qiskit-aer) (1.2.0)\n",
      "Requirement already satisfied: numpy>=1.16.3 in ./anaconda3/lib/python3.10/site-packages (from qiskit-aer) (1.26.0)\n",
      "Requirement already satisfied: psutil>=5 in ./anaconda3/lib/python3.10/site-packages (from qiskit-aer) (5.9.0)\n",
      "Requirement already satisfied: scipy>=1.0 in ./anaconda3/lib/python3.10/site-packages (from qiskit-aer) (1.10.0)\n",
      "Requirement already satisfied: symengine>=0.11 in ./anaconda3/lib/python3.10/site-packages (from qiskit>=1.1.0->qiskit-aer) (0.11.0)\n",
      "Requirement already satisfied: sympy>=1.3 in ./anaconda3/lib/python3.10/site-packages (from qiskit>=1.1.0->qiskit-aer) (1.11.1)\n",
      "Requirement already satisfied: python-dateutil>=2.8.0 in ./anaconda3/lib/python3.10/site-packages (from qiskit>=1.1.0->qiskit-aer) (2.8.2)\n",
      "Requirement already satisfied: typing-extensions in ./anaconda3/lib/python3.10/site-packages (from qiskit>=1.1.0->qiskit-aer) (4.4.0)\n",
      "Requirement already satisfied: dill>=0.3 in ./anaconda3/lib/python3.10/site-packages (from qiskit>=1.1.0->qiskit-aer) (0.3.6)\n",
      "Requirement already satisfied: stevedore>=3.0.0 in ./anaconda3/lib/python3.10/site-packages (from qiskit>=1.1.0->qiskit-aer) (5.3.0)\n",
      "Requirement already satisfied: rustworkx>=0.15.0 in ./anaconda3/lib/python3.10/site-packages (from qiskit>=1.1.0->qiskit-aer) (0.15.1)\n",
      "Requirement already satisfied: six>=1.5 in ./anaconda3/lib/python3.10/site-packages (from python-dateutil>=2.8.0->qiskit>=1.1.0->qiskit-aer) (1.16.0)\n",
      "Requirement already satisfied: pbr>=2.0.0 in ./anaconda3/lib/python3.10/site-packages (from stevedore>=3.0.0->qiskit>=1.1.0->qiskit-aer) (6.0.0)\n",
      "Requirement already satisfied: mpmath>=0.19 in ./anaconda3/lib/python3.10/site-packages/mpmath-1.2.1-py3.10.egg (from sympy>=1.3->qiskit>=1.1.0->qiskit-aer) (1.2.1)\n"
     ]
    }
   ],
   "source": [
    "!pip install qiskit-aer"
   ]
  },
  {
   "cell_type": "code",
   "execution_count": 11,
   "id": "b020190f",
   "metadata": {},
   "outputs": [
    {
     "data": {
      "image/png": "[encoded data removed]",
      "text/plain": [
       "<Figure size 700x500 with 1 Axes>"
      ]
     },
     "execution_count": 11,
     "metadata": {},
     "output_type": "execute_result"
    }
   ],
   "source": [
    "#When we wanna transpile the circuit, we also need to talk about the backend as well\n",
    "from qiskit import transpile  # there is no box that it doesn't know about,so transpile is not really needed for this circuit \n",
    "from qiskit_aer import AerSimulator\n",
    "from qiskit.visualization import plot_distribution\n",
    "# we wanna have access to what we did,we know it's doing it randomly but it needs to be accessible as well, so seed is needed\n",
    "simulator_aer=AerSimulator(seed_simulator=42) #seed_simulator could be anything & the result could be repeated using same seed\n",
    "qc_aer= transpile(qc,backend=simulator_aer)#should specify the backend ( using the object we defined before)\n",
    "result_ideal=simulator_aer.run(qc_aer,shots=1024).result()\n",
    "counts_ideal=result_ideal.get_counts()\n",
    "\n",
    "plot_distribution(counts_ideal) # giving us quasi-probability\n"
   ]
  },
  {
   "cell_type": "markdown",
   "id": "64790f12",
   "metadata": {},
   "source": [
    "from bell-state, this is what we expect having 50/50 chance for 00 and 11, with no noise involved"
   ]
  },
  {
   "cell_type": "markdown",
   "id": "2a947f10",
   "metadata": {},
   "source": [
    "Now using depolarizing noise:\n",
    "noise didn't change much on this version of qiskit"
   ]
  },
  {
   "cell_type": "markdown",
   "id": "de6cfc7e",
   "metadata": {},
   "source": [
    "for depolarizing noise, we need to know that when we have no noise, we show the state using state vector, but \n",
    "that is not the case when noise is pressent, since we will have mixed state when having noise\n",
    "we can only show mixed state using density matrix which is combination of state vectors with corresponding probability"
   ]
  },
  {
   "cell_type": "markdown",
   "id": "243d581c",
   "metadata": {},
   "source": [
    "#Deploraizing Noise:\n",
    "Deploraizing noise represents aquantum operation where,with probability(p), the state of the qubits is replaced by\n",
    "the maximally mixed state:\n",
    "rho -> (1-p)*rho+(p/d)* identity matrix\n",
    "where rho is the density matrix of the qubits,and d is. the dimension of the Hilbert space ( for n qubits, dimension is d=2^n\n",
    "in this simulation, the noise model aplies the deplorizing error with probability(p=0.1) to all 2-qubit CX gates, reflecting relaistic noise behavior in quantum devices"
   ]
  },
  {
   "cell_type": "code",
   "execution_count": 15,
   "id": "adf183f2",
   "metadata": {},
   "outputs": [
    {
     "data": {
      "image/png": "[encoded data removed]",
      "text/plain": [
       "<Figure size 700x500 with 1 Axes>"
      ]
     },
     "execution_count": 15,
     "metadata": {},
     "output_type": "execute_result"
    }
   ],
   "source": [
    "#qiskit_aer could apply noise, while Basic_simulator can't do it\n",
    "from qiskit_aer import noise\n",
    "# we need to define the probability for it, then defining the error object using noise class, using deploraizing_error()\n",
    "prob=0.1\n",
    "error= noise.depolarizing_error(prob,2) # the dimension of hilbert space is specified using number of qubits here as 2\n",
    "#so by only specifying the number of qubits here, the dimension of hilbert space is automatically found for us\n",
    "#Now using noise_model using the noise class \n",
    "noise_model=noise.NoiseModel()\n",
    "# using the command .add_all_qubit_quantum_error(error object, the gate that it suposed to act on it)\n",
    "noise_model.add_all_qubit_quantum_error(error,['cx'])\n",
    "\n",
    "#definig the gate for it, using noise model object.basis_gates \n",
    "basis_gates=noise_model.basis_gates\n",
    "#finally we get the noisy results, using qc circuit with 1024 shots, using noise model as defined, and using the gate which is our channel \n",
    "result_noisy= simulator_aer.run(qc, \n",
    "                               shots=1024,\n",
    "                              noise_model=noise_model,\n",
    "                              basis_gates=basis_gates).result()\n",
    "#using get.counts() to get counts of noisy results\n",
    "counts_noisy=result_noisy.get_counts()\n",
    "\n",
    "#for plot-distribution we can give it a list to plot it besides other results for comparison ( eg: ideal vs noisy)\n",
    "# we can also give the plot an apropriate title\n",
    "plot_distribution([counts_ideal,counts_noisy],title='Noiseless vs Noisy simulator')"
   ]
  },
  {
   "cell_type": "markdown",
   "id": "8d11e4cb",
   "metadata": {},
   "source": [
    "Now, ploting with noisy ones, we have output for 01 & 10 as well, ideal one is the blue one"
   ]
  },
  {
   "cell_type": "markdown",
   "id": "b5d63f33",
   "metadata": {},
   "source": [
    "Parametric circuits:"
   ]
  },
  {
   "cell_type": "markdown",
   "id": "aa861980",
   "metadata": {},
   "source": [
    "Simulate locally (CPU/GPU -> using Google Colab)\n",
    "We can use Qiskit for simulation ( using quantum_infor ( for Stetevector, DEnsityMatrix,Operator)\n",
    "or providers(BasicSimulator), primitives(Statevector Sampler,StatevectorEstimator)-> using version 2 here )\n",
    "Qiskit Aer (AerSimulator(statevector,Densitymatrix,unitary,...))\n",
    "Qiskit IBM Runtime -> primitives -> Sampleer Estimator\n",
    "Qiskit IBM Provider deprecated"
   ]
  },
  {
   "cell_type": "markdown",
   "id": "f2314a4e",
   "metadata": {},
   "source": [
    "#Primitives: the smallest processing instructionfor a given absteraction level\n",
    "Runnig on Backends\n",
    "it provies circuits + number of shots\n",
    "Run on specified bakend\n",
    "get counts for each circuit"
   ]
  },
  {
   "cell_type": "markdown",
   "id": "145efede",
   "metadata": {},
   "source": [
    "Primitive could help speeding up, providing us with sampler and estimator\n",
    "What we did up until now, we defined a quantum circuits with specific amounts of shots, it was given to the backend\n",
    "then getting counts as output. Now using primitive, we have sampler which would basically returns shot by shot bit string sampled from the probability distribution of the quantum state prepared on the device\n",
    "primitives: Basic functional block to run slightly higher-level quantum programs/ return more than counts as output\n",
    "Sampler: Samples output state of a circuit ( eg. a probability distribution )"
   ]
  },
  {
   "cell_type": "markdown",
   "id": "16221020",
   "metadata": {},
   "source": [
    "sampler gets pub(which is a quantum circuit, giving parameters, and number of shots)\n",
    "(also to elaborate more here, you can give multiple quantum circuits as pub, also it doesn't have to be parameteric but it better be, also for each circuit, you can choose different number of shots)\n",
    "Now, this pub is given to sampler, sampler interacts with backend(backend corespponds given what you asked for ( which could be Statevector, density matrix, using BasicSimulator, AerSimulator,Fake backend,QPU) then it would provide you with probability distribution (just as get.counts we had before, but now for parametric circuits that would run for each parameter, and would get output. We wanna work with sampler code now:"
   ]
  },
  {
   "cell_type": "code",
   "execution_count": 22,
   "id": "999f7b28",
   "metadata": {},
   "outputs": [
    {
     "data": {
      "image/png": "[encoded data removed]",
      "text/plain": [
       "<Figure size 454.517x284.278 with 1 Axes>"
      ]
     },
     "execution_count": 22,
     "metadata": {},
     "output_type": "execute_result"
    }
   ],
   "source": [
    "from qiskit.primitives import StatevectorSampler, StatevectorEstimator #using version2 now\n",
    "qc.draw('mpl')\n"
   ]
  },
  {
   "cell_type": "code",
   "execution_count": 23,
   "id": "9cba2038",
   "metadata": {},
   "outputs": [],
   "source": [
    "#define an object to put StatevectorSampler in it\n",
    "sampler=StatevectorSampler()\n",
    "#defining a job, to run our circuit\n",
    "job_simulator=simulator_aer.run(qc,shots=1024)"
   ]
  },
  {
   "cell_type": "markdown",
   "id": "030a7e9a",
   "metadata": {},
   "source": [
    "as seen before, we defined jobs before, and using simulators to get results for it, now can we do same thing for Sampler regarding to defining job?"
   ]
  },
  {
   "cell_type": "code",
   "execution_count": 26,
   "id": "d47f498d",
   "metadata": {},
   "outputs": [
    {
     "ename": "ValueError",
     "evalue": "An invalid Sampler pub-like was given (<class 'qiskit._accelerate.circuit.CircuitInstruction'>). If you want to run a single circuit, you need to wrap it with `[]` like `sampler.run([circuit])` instead of `sampler.run(circuit)`.",
     "output_type": "error",
     "traceback": [
      "\u001b[0;31m---------------------------------------------------------------------------\u001b[0m",
      "\u001b[0;31mValueError\u001b[0m                                Traceback (most recent call last)",
      "Cell \u001b[0;32mIn[26], line 1\u001b[0m\n\u001b[0;32m----> 1\u001b[0m job_sampler\u001b[38;5;241m=\u001b[39m\u001b[43msampler\u001b[49m\u001b[38;5;241;43m.\u001b[39;49m\u001b[43mrun\u001b[49m\u001b[43m(\u001b[49m\u001b[43mqc\u001b[49m\u001b[43m,\u001b[49m\u001b[43mshots\u001b[49m\u001b[38;5;241;43m=\u001b[39;49m\u001b[38;5;241;43m1024\u001b[39;49m\u001b[43m)\u001b[49m\n",
      "File \u001b[0;32m~/anaconda3/lib/python3.10/site-packages/qiskit/primitives/statevector_sampler.py:160\u001b[0m, in \u001b[0;36mStatevectorSampler.run\u001b[0;34m(self, pubs, shots)\u001b[0m\n\u001b[1;32m    158\u001b[0m \u001b[38;5;28;01mif\u001b[39;00m shots \u001b[38;5;129;01mis\u001b[39;00m \u001b[38;5;28;01mNone\u001b[39;00m:\n\u001b[1;32m    159\u001b[0m     shots \u001b[38;5;241m=\u001b[39m \u001b[38;5;28mself\u001b[39m\u001b[38;5;241m.\u001b[39m_default_shots\n\u001b[0;32m--> 160\u001b[0m coerced_pubs \u001b[38;5;241m=\u001b[39m [SamplerPub\u001b[38;5;241m.\u001b[39mcoerce(pub, shots) \u001b[38;5;28;01mfor\u001b[39;00m pub \u001b[38;5;129;01min\u001b[39;00m pubs]\n\u001b[1;32m    161\u001b[0m \u001b[38;5;28;01mif\u001b[39;00m \u001b[38;5;28many\u001b[39m(\u001b[38;5;28mlen\u001b[39m(pub\u001b[38;5;241m.\u001b[39mcircuit\u001b[38;5;241m.\u001b[39mcregs) \u001b[38;5;241m==\u001b[39m \u001b[38;5;241m0\u001b[39m \u001b[38;5;28;01mfor\u001b[39;00m pub \u001b[38;5;129;01min\u001b[39;00m coerced_pubs):\n\u001b[1;32m    162\u001b[0m     warnings\u001b[38;5;241m.\u001b[39mwarn(\n\u001b[1;32m    163\u001b[0m         \u001b[38;5;124m\"\u001b[39m\u001b[38;5;124mOne of your circuits has no output classical registers and so the result \u001b[39m\u001b[38;5;124m\"\u001b[39m\n\u001b[1;32m    164\u001b[0m         \u001b[38;5;124m\"\u001b[39m\u001b[38;5;124mwill be empty. Did you mean to add measurement instructions?\u001b[39m\u001b[38;5;124m\"\u001b[39m,\n\u001b[1;32m    165\u001b[0m         \u001b[38;5;167;01mUserWarning\u001b[39;00m,\n\u001b[1;32m    166\u001b[0m     )\n",
      "File \u001b[0;32m~/anaconda3/lib/python3.10/site-packages/qiskit/primitives/statevector_sampler.py:160\u001b[0m, in \u001b[0;36m<listcomp>\u001b[0;34m(.0)\u001b[0m\n\u001b[1;32m    158\u001b[0m \u001b[38;5;28;01mif\u001b[39;00m shots \u001b[38;5;129;01mis\u001b[39;00m \u001b[38;5;28;01mNone\u001b[39;00m:\n\u001b[1;32m    159\u001b[0m     shots \u001b[38;5;241m=\u001b[39m \u001b[38;5;28mself\u001b[39m\u001b[38;5;241m.\u001b[39m_default_shots\n\u001b[0;32m--> 160\u001b[0m coerced_pubs \u001b[38;5;241m=\u001b[39m [\u001b[43mSamplerPub\u001b[49m\u001b[38;5;241;43m.\u001b[39;49m\u001b[43mcoerce\u001b[49m\u001b[43m(\u001b[49m\u001b[43mpub\u001b[49m\u001b[43m,\u001b[49m\u001b[43m \u001b[49m\u001b[43mshots\u001b[49m\u001b[43m)\u001b[49m \u001b[38;5;28;01mfor\u001b[39;00m pub \u001b[38;5;129;01min\u001b[39;00m pubs]\n\u001b[1;32m    161\u001b[0m \u001b[38;5;28;01mif\u001b[39;00m \u001b[38;5;28many\u001b[39m(\u001b[38;5;28mlen\u001b[39m(pub\u001b[38;5;241m.\u001b[39mcircuit\u001b[38;5;241m.\u001b[39mcregs) \u001b[38;5;241m==\u001b[39m \u001b[38;5;241m0\u001b[39m \u001b[38;5;28;01mfor\u001b[39;00m pub \u001b[38;5;129;01min\u001b[39;00m coerced_pubs):\n\u001b[1;32m    162\u001b[0m     warnings\u001b[38;5;241m.\u001b[39mwarn(\n\u001b[1;32m    163\u001b[0m         \u001b[38;5;124m\"\u001b[39m\u001b[38;5;124mOne of your circuits has no output classical registers and so the result \u001b[39m\u001b[38;5;124m\"\u001b[39m\n\u001b[1;32m    164\u001b[0m         \u001b[38;5;124m\"\u001b[39m\u001b[38;5;124mwill be empty. Did you mean to add measurement instructions?\u001b[39m\u001b[38;5;124m\"\u001b[39m,\n\u001b[1;32m    165\u001b[0m         \u001b[38;5;167;01mUserWarning\u001b[39;00m,\n\u001b[1;32m    166\u001b[0m     )\n",
      "File \u001b[0;32m~/anaconda3/lib/python3.10/site-packages/qiskit/primitives/containers/sampler_pub.py:118\u001b[0m, in \u001b[0;36mSamplerPub.coerce\u001b[0;34m(cls, pub, shots)\u001b[0m\n\u001b[1;32m    115\u001b[0m     \u001b[38;5;28;01mreturn\u001b[39;00m \u001b[38;5;28mcls\u001b[39m(circuit\u001b[38;5;241m=\u001b[39mpub, shots\u001b[38;5;241m=\u001b[39mshots, validate\u001b[38;5;241m=\u001b[39m\u001b[38;5;28;01mTrue\u001b[39;00m)\n\u001b[1;32m    117\u001b[0m \u001b[38;5;28;01mif\u001b[39;00m \u001b[38;5;28misinstance\u001b[39m(pub, CircuitInstruction):\n\u001b[0;32m--> 118\u001b[0m     \u001b[38;5;28;01mraise\u001b[39;00m \u001b[38;5;167;01mValueError\u001b[39;00m(\n\u001b[1;32m    119\u001b[0m         \u001b[38;5;124mf\u001b[39m\u001b[38;5;124m\"\u001b[39m\u001b[38;5;124mAn invalid Sampler pub-like was given (\u001b[39m\u001b[38;5;132;01m{\u001b[39;00m\u001b[38;5;28mtype\u001b[39m(pub)\u001b[38;5;132;01m}\u001b[39;00m\u001b[38;5;124m). \u001b[39m\u001b[38;5;124m\"\u001b[39m\n\u001b[1;32m    120\u001b[0m         \u001b[38;5;124m\"\u001b[39m\u001b[38;5;124mIf you want to run a single circuit, \u001b[39m\u001b[38;5;124m\"\u001b[39m\n\u001b[1;32m    121\u001b[0m         \u001b[38;5;124m\"\u001b[39m\u001b[38;5;124myou need to wrap it with `[]` like `sampler.run([circuit])` \u001b[39m\u001b[38;5;124m\"\u001b[39m\n\u001b[1;32m    122\u001b[0m         \u001b[38;5;124m\"\u001b[39m\u001b[38;5;124minstead of `sampler.run(circuit)`.\u001b[39m\u001b[38;5;124m\"\u001b[39m\n\u001b[1;32m    123\u001b[0m     )\n\u001b[1;32m    125\u001b[0m \u001b[38;5;28;01mif\u001b[39;00m \u001b[38;5;28mlen\u001b[39m(pub) \u001b[38;5;129;01mnot\u001b[39;00m \u001b[38;5;129;01min\u001b[39;00m [\u001b[38;5;241m1\u001b[39m, \u001b[38;5;241m2\u001b[39m, \u001b[38;5;241m3\u001b[39m]:\n\u001b[1;32m    126\u001b[0m     \u001b[38;5;28;01mraise\u001b[39;00m \u001b[38;5;167;01mValueError\u001b[39;00m(\n\u001b[1;32m    127\u001b[0m         \u001b[38;5;124mf\u001b[39m\u001b[38;5;124m\"\u001b[39m\u001b[38;5;124mThe length of pub must be 1, 2 or 3, but length \u001b[39m\u001b[38;5;132;01m{\u001b[39;00m\u001b[38;5;28mlen\u001b[39m(pub)\u001b[38;5;132;01m}\u001b[39;00m\u001b[38;5;124m is given.\u001b[39m\u001b[38;5;124m\"\u001b[39m\n\u001b[1;32m    128\u001b[0m     )\n",
      "\u001b[0;31mValueError\u001b[0m: An invalid Sampler pub-like was given (<class 'qiskit._accelerate.circuit.CircuitInstruction'>). If you want to run a single circuit, you need to wrap it with `[]` like `sampler.run([circuit])` instead of `sampler.run(circuit)`."
     ]
    }
   ],
   "source": [
    "job_sampler=sampler.run(qc,shots=1024)"
   ]
  },
  {
   "cell_type": "markdown",
   "id": "fcea8107",
   "metadata": {},
   "source": [
    "We can see the error, telling us I need pub as my input, and my sample should be pub (which is a quantum circuit\n",
    "with parameters and number of shots given in a list), now let's do it\n"
   ]
  },
  {
   "cell_type": "code",
   "execution_count": 28,
   "id": "85a63782",
   "metadata": {},
   "outputs": [],
   "source": [
    "# for now our circuit doesn't have parameter whch could be left as blank, or mentioned as 'none'\n",
    "job_sampler=sampler.run([qc],shots=1024) \n",
    "\n",
    "# if having multiple pub, could determine the number of shots for all of them, or could specify the number of pub \n",
    "# for each circuit individually, here we specified a general shot\n",
    "#note that pubs should be in a list always"
   ]
  },
  {
   "cell_type": "code",
   "execution_count": 32,
   "id": "7a7f0f7a",
   "metadata": {},
   "outputs": [],
   "source": [
    "#So your circuit should be inside the list, to make it work as a pub\n",
    "#now getting results from samplet:\n",
    "result_sampler=job_sampler.result()\n",
    "\n",
    "#reminder: job is the step before before getting results (sometimes could skip it and get results without it)"
   ]
  },
  {
   "cell_type": "code",
   "execution_count": 33,
   "id": "5446db52",
   "metadata": {},
   "outputs": [
    {
     "name": "stdout",
     "output_type": "stream",
     "text": [
      "{'11': 503, '00': 521}\n"
     ]
    }
   ],
   "source": [
    "#The result we have from Aer_simulator:\n",
    "print(counts_ideal)\n"
   ]
  },
  {
   "cell_type": "code",
   "execution_count": 34,
   "id": "ea3060af",
   "metadata": {},
   "outputs": [
    {
     "ename": "AttributeError",
     "evalue": "'PrimitiveResult' object has no attribute 'get_counts'",
     "output_type": "error",
     "traceback": [
      "\u001b[0;31m---------------------------------------------------------------------------\u001b[0m",
      "\u001b[0;31mAttributeError\u001b[0m                            Traceback (most recent call last)",
      "Cell \u001b[0;32mIn[34], line 2\u001b[0m\n\u001b[1;32m      1\u001b[0m \u001b[38;5;66;03m#THe result is the dictionary, now see if we can use ssame approach toget sampler result:\u001b[39;00m\n\u001b[0;32m----> 2\u001b[0m counts_sampler\u001b[38;5;241m=\u001b[39m\u001b[43mresult_sampler\u001b[49m\u001b[38;5;241;43m.\u001b[39;49m\u001b[43mget_counts\u001b[49m()\n",
      "\u001b[0;31mAttributeError\u001b[0m: 'PrimitiveResult' object has no attribute 'get_counts'"
     ]
    }
   ],
   "source": [
    "#THe result is the dictionary, now see if we can use same approach to get sampler result:\n",
    "counts_sampler=result_sampler.get_counts()"
   ]
  },
  {
   "cell_type": "code",
   "execution_count": 36,
   "id": "34841646",
   "metadata": {},
   "outputs": [
    {
     "name": "stdout",
     "output_type": "stream",
     "text": [
      "PrimitiveResult([SamplerPubResult(data=DataBin(c=BitArray(<shape=(), num_shots=1024, num_bits=2>)), metadata={'shots': 1024, 'circuit_metadata': {}})], metadata={'version': 2})\n"
     ]
    }
   ],
   "source": [
    "#THe error shows we don't have .get_counts() command here\n",
    "#Now how to get the result:\n",
    "print(result_sampler)"
   ]
  },
  {
   "cell_type": "markdown",
   "id": "a7dc7970",
   "metadata": {},
   "source": [
    "#We're getting a list that is the pub output, and we have data in it, in that data it has classical variable,bit array"
   ]
  },
  {
   "cell_type": "code",
   "execution_count": 38,
   "id": "e72a7007",
   "metadata": {},
   "outputs": [
    {
     "name": "stdout",
     "output_type": "stream",
     "text": [
      "SamplerPubResult(data=DataBin(c=BitArray(<shape=(), num_shots=1024, num_bits=2>)), metadata={'shots': 1024, 'circuit_metadata': {}})\n"
     ]
    }
   ],
   "source": [
    "#Now in this list, we give 0 index, to see what we'll get:\n",
    "print(result_sampler[0])"
   ]
  },
  {
   "cell_type": "code",
   "execution_count": 40,
   "id": "b99b276a",
   "metadata": {},
   "outputs": [
    {
     "name": "stdout",
     "output_type": "stream",
     "text": [
      "DataBin(c=BitArray(<shape=(), num_shots=1024, num_bits=2>))\n"
     ]
    }
   ],
   "source": [
    "#Now we wanna see the data:\n",
    "print(result_sampler[0].data)"
   ]
  },
  {
   "cell_type": "code",
   "execution_count": 41,
   "id": "e14ff6b3",
   "metadata": {},
   "outputs": [
    {
     "name": "stdout",
     "output_type": "stream",
     "text": [
      "BitArray(<shape=(), num_shots=1024, num_bits=2>)\n"
     ]
    }
   ],
   "source": [
    "#Now in the output of first pub, we have a Bit Array, shown with c\n",
    "#now what is this c?\n",
    "print(result_sampler[0].data.c)"
   ]
  },
  {
   "cell_type": "markdown",
   "id": "b452518b",
   "metadata": {},
   "source": [
    "#Now having the Bit Array, on Bit Array, command get_counts() is working, just similar to what we get from Aer Simulator"
   ]
  },
  {
   "cell_type": "code",
   "execution_count": 43,
   "id": "936a89f8",
   "metadata": {},
   "outputs": [
    {
     "name": "stdout",
     "output_type": "stream",
     "text": [
      "{'00': 510, '11': 514}\n"
     ]
    }
   ],
   "source": [
    "print(result_sampler[0].data.c.get_counts())"
   ]
  },
  {
   "cell_type": "markdown",
   "id": "8dfb906f",
   "metadata": {},
   "source": [
    "Now what's up with the c ? it's the classiccal register we can visually see on circuit"
   ]
  },
  {
   "cell_type": "markdown",
   "id": "547872b6",
   "metadata": {},
   "source": [
    "Trying the sampler on parametric circuit, and see why we have this c ?"
   ]
  },
  {
   "cell_type": "markdown",
   "id": "4fc99f30",
   "metadata": {},
   "source": [
    "We can add classical register to quantum circuit, and give classical register an arbitrary name instead of c"
   ]
  },
  {
   "cell_type": "markdown",
   "id": "1a28c2e9",
   "metadata": {},
   "source": [
    "Applying measure could change the name of classical register, which will be observed below"
   ]
  },
  {
   "cell_type": "markdown",
   "id": "a2a93bd4",
   "metadata": {},
   "source": [
    "if getting error for c, draw the ccircuit and see what classical register is called, to use that name"
   ]
  },
  {
   "cell_type": "code",
   "execution_count": 49,
   "id": "ff5fc3cb",
   "metadata": {},
   "outputs": [
    {
     "data": {
      "image/png": "[encoded data removed]",
      "text/plain": [
       "<Figure size 580.387x284.278 with 1 Axes>"
      ]
     },
     "execution_count": 49,
     "metadata": {},
     "output_type": "execute_result"
    }
   ],
   "source": [
    "#wanna have multiple circuits, to have 2 pubs and see how it works\n",
    "from qiskit.circuit import Parameter\n",
    "theta=Parameter('theta')\n",
    "qc2=QuantumCircuit(2)\n",
    "qc2.rx(theta,1)\n",
    "qc2.cx(1,0)\n",
    "qc2.measure_all()\n",
    "qc2.draw('mpl')"
   ]
  },
  {
   "cell_type": "markdown",
   "id": "0a55bdcd",
   "metadata": {},
   "source": [
    "We could see that the name of classical register is now named as 'meas'"
   ]
  },
  {
   "cell_type": "code",
   "execution_count": 51,
   "id": "1971eac1",
   "metadata": {},
   "outputs": [],
   "source": [
    "from math import pi"
   ]
  },
  {
   "cell_type": "code",
   "execution_count": 55,
   "id": "ee7e725c",
   "metadata": {},
   "outputs": [
    {
     "data": {
      "image/png": "[encoded data removed]",
      "text/plain": [
       "<Figure size 580.387x284.278 with 1 Axes>"
      ]
     },
     "metadata": {},
     "output_type": "display_data"
    },
    {
     "data": {
      "image/png": "[encoded data removed]",
      "text/plain": [
       "<Figure size 580.387x284.278 with 1 Axes>"
      ]
     },
     "metadata": {},
     "output_type": "display_data"
    },
    {
     "data": {
      "image/png": "[encoded data removed]",
      "text/plain": [
       "<Figure size 580.387x284.278 with 1 Axes>"
      ]
     },
     "metadata": {},
     "output_type": "display_data"
    }
   ],
   "source": [
    "#Now we wanna define a list of parameters now:\n",
    "angles=[[pi/4],[pi/3],[pi/2]]\n",
    "#now we wanna assign the parameters, having an empty list, such that we make a list by entering parameters here\n",
    "circuits=[]\n",
    "for angle in angles:\n",
    "    qc_temp=qc2.assign_parameters({theta:angle[0]})\n",
    "    circuits.append(qc_temp)\n",
    "# we have a list with one variable,so we need to specify the index : theta:angle[0]\n",
    "# then we append them to circuit\n",
    "#Now if we want to have more parameters,we can do as such:\n",
    "for i in range(len(angles)):\n",
    "    display(circuits[i].draw('mpl'))"
   ]
  },
  {
   "cell_type": "markdown",
   "id": "702f4ea8",
   "metadata": {},
   "source": [
    "So now we have for circuits, how we obtain them?\n",
    "we defined a list of angles with their values, then defining empty list for circuits, that we each time\n",
    "append to it,such that the assigned angles are applied to each circuit, now having theta.angle[0] specify that\n",
    "we take one variable from angles each time, then we append it on our circuit list, having 3 circuits then draw it\n",
    "using i= length of list, show the corresponding circuit to us"
   ]
  },
  {
   "cell_type": "code",
   "execution_count": 58,
   "id": "d17fbff8",
   "metadata": {},
   "outputs": [],
   "source": [
    "# we can transpile all the circuits at once\n",
    "circuits_transpiled=transpile(circuits, backend=simulator_aer)\n",
    "result_simulator=simulator_aer.run(circuits_transpiled, shots=1024).result()\n",
    "# getting results of transpiled circuits all at once\n",
    "# avoiding job in above code"
   ]
  },
  {
   "cell_type": "code",
   "execution_count": 60,
   "id": "3421a0f0",
   "metadata": {},
   "outputs": [
    {
     "name": "stdout",
     "output_type": "stream",
     "text": [
      "[{'11': 129, '00': 895}, {'11': 257, '00': 767}, {'00': 512, '11': 512}]\n"
     ]
    }
   ],
   "source": [
    "# when working with simulator, we need to define for to get results, but sampler helps alot to ease coding\n",
    "#getting results of each circuit individually:\n",
    "counts_simulator=[]\n",
    "for i in range(len(angles)):\n",
    "    result_temp=result_simulator.get_counts(i)  # having i get results individually, putting it in result_temp\n",
    "    counts_simulator.append(result_temp) #append command here is for python here, not qiskit append here\n",
    "print(counts_simulator)"
   ]
  },
  {
   "cell_type": "markdown",
   "id": "08e3565d",
   "metadata": {},
   "source": [
    "we get result of circuits for each parameter in above code"
   ]
  },
  {
   "cell_type": "code",
   "execution_count": 64,
   "id": "afcfb492",
   "metadata": {},
   "outputs": [],
   "source": [
    "#Now let's run sampler on 2nd quantum circuits (qc2), giving it pub and all that, to get the result:\n",
    "result_sampler=sampler.run([(qc2,angles)],shots=1024).result()"
   ]
  },
  {
   "cell_type": "code",
   "execution_count": 66,
   "id": "4320d734",
   "metadata": {},
   "outputs": [
    {
     "name": "stdout",
     "output_type": "stream",
     "text": [
      "PrimitiveResult([SamplerPubResult(data=DataBin(meas=BitArray(<shape=(3,), num_shots=1024, num_bits=2>), shape=(3,)), metadata={'shots': 1024, 'circuit_metadata': {}})], metadata={'version': 2})\n"
     ]
    }
   ],
   "source": [
    "print(result_sampler)"
   ]
  },
  {
   "cell_type": "code",
   "execution_count": 71,
   "id": "405f946b",
   "metadata": {},
   "outputs": [
    {
     "name": "stdout",
     "output_type": "stream",
     "text": [
      "[{'00': 881, '11': 143}, {'00': 770, '11': 254}, {'00': 510, '11': 514}]\n"
     ]
    }
   ],
   "source": [
    "counts_sampler=[]\n",
    "for i in range(len(angles)):\n",
    "    result_temp=result_sampler[0].data.meas.get_counts(i) #changing classical register to meas\n",
    "    counts_sampler.append(result_temp)\n",
    "    \n",
    "print(counts_sampler)"
   ]
  },
  {
   "cell_type": "markdown",
   "id": "8c297c55",
   "metadata": {},
   "source": [
    "we observed sampler could record all data, beforehand for simulator, we needed for loop to make it run, now using\n",
    "sampler, we only need the for loop for getting the results"
   ]
  },
  {
   "cell_type": "code",
   "execution_count": 74,
   "id": "18a1eb95",
   "metadata": {},
   "outputs": [
    {
     "name": "stdout",
     "output_type": "stream",
     "text": [
      "{'00': 2161, '11': 911}\n"
     ]
    }
   ],
   "source": [
    "print(result_sampler[0].data.meas.get_counts())"
   ]
  },
  {
   "cell_type": "markdown",
   "id": "d12d8970",
   "metadata": {},
   "source": [
    "giving us the collective behavior, if having .get_counts() without i inside bracket"
   ]
  },
  {
   "cell_type": "code",
   "execution_count": 75,
   "id": "6da5c70e",
   "metadata": {},
   "outputs": [
    {
     "name": "stdout",
     "output_type": "stream",
     "text": [
      "[{'11': 129, '00': 895}, {'11': 257, '00': 767}, {'00': 512, '11': 512}]\n"
     ]
    }
   ],
   "source": [
    "print(result_simulator.get_counts())"
   ]
  },
  {
   "cell_type": "markdown",
   "id": "e660e2d2",
   "metadata": {},
   "source": [
    "compare result_simulator, doesn't give us the collective values "
   ]
  },
  {
   "cell_type": "code",
   "execution_count": 77,
   "id": "aeb6dc38",
   "metadata": {},
   "outputs": [
    {
     "data": {
      "image/png": "[encoded data removed]",
      "text/plain": [
       "<Figure size 454.517x284.278 with 1 Axes>"
      ]
     },
     "execution_count": 77,
     "metadata": {},
     "output_type": "execute_result"
    }
   ],
   "source": [
    "\n",
    "qc.draw('mpl')"
   ]
  },
  {
   "cell_type": "code",
   "execution_count": 78,
   "id": "268ed0b8",
   "metadata": {},
   "outputs": [],
   "source": [
    "#Now defining multiple pubs:\n",
    "result_sampler=sampler.run([(qc2,angles),(qc,None)],shots=1024).result()\n",
    "#Now, sampler could do all with two pubs(super fast and efficient in comparison to using simulator)"
   ]
  },
  {
   "cell_type": "code",
   "execution_count": 90,
   "id": "8cd748b8",
   "metadata": {},
   "outputs": [
    {
     "name": "stdout",
     "output_type": "stream",
     "text": [
      "First pub's result with 0th angle of the list: {'00': 898, '11': 126}.\n",
      "First pub's result with 1th angle of the list: {'00': 764, '11': 260}.\n",
      "First pub's result with 2th angle of the list: {'11': 529, '00': 495}.\n",
      "Second Pub's result: {'00': 506, '11': 518}\n"
     ]
    }
   ],
   "source": [
    "for i in range(len(angles)):\n",
    "    print(f\"First pub's result with {i}th angle of the list: {result_sampler[0].data.meas.get_counts(i)}.\") #meas here\n",
    "\n",
    "#the qc2 is not the parametric circuit, so we can get results as such:\n",
    "print(f\"Second Pub's result: {result_sampler[1].data.c.get_counts()}\") # c here"
   ]
  },
  {
   "cell_type": "markdown",
   "id": "c7a9dec1",
   "metadata": {},
   "source": [
    "having collective behavior of the 3 circuits we had at first"
   ]
  },
  {
   "cell_type": "code",
   "execution_count": 91,
   "id": "3d1c0ff9",
   "metadata": {},
   "outputs": [
    {
     "name": "stdout",
     "output_type": "stream",
     "text": [
      "{'00': 2157, '11': 915}\n"
     ]
    }
   ],
   "source": [
    "print(result_sampler[0].data.meas.get_counts())"
   ]
  },
  {
   "cell_type": "code",
   "execution_count": 92,
   "id": "a3b2e09e",
   "metadata": {},
   "outputs": [],
   "source": [
    "#Now, having individual shots for each circuit\n",
    "result_sampler=sampler.run([(qc2,angles,1024),(qc,None,100)]).result()"
   ]
  },
  {
   "cell_type": "code",
   "execution_count": 93,
   "id": "222f5a06",
   "metadata": {},
   "outputs": [
    {
     "name": "stdout",
     "output_type": "stream",
     "text": [
      "First pub's result with 0th angle of the list: {'00': 884, '11': 140}.\n",
      "First pub's result with 1th angle of the list: {'11': 262, '00': 762}.\n",
      "First pub's result with 2th angle of the list: {'11': 486, '00': 538}.\n",
      "Second Pub's result: {'11': 58, '00': 42}\n"
     ]
    }
   ],
   "source": [
    "for i in range(len(angles)):\n",
    "    print(f\"First pub's result with {i}th angle of the list: {result_sampler[0].data.meas.get_counts(i)}.\") #meas here\n",
    "\n",
    "#the qc2 is not the parametric circuit, so we can get results as such:\n",
    "print(f\"Second Pub's result: {result_sampler[1].data.c.get_counts()}\") # c here"
   ]
  },
  {
   "cell_type": "markdown",
   "id": "29fe1630",
   "metadata": {},
   "source": [
    "seeing that the shots for 2nd sampler reduced to 100"
   ]
  },
  {
   "cell_type": "markdown",
   "id": "74c4e129",
   "metadata": {},
   "source": [
    "We got the statevector sampleer from qiskit and this is still using quantum_info in its backend for this compuation\n",
    "knowing that for quantum_info, having a mid-circuit measurement would give us error here.\n",
    "mid-circuit measurement here means that, it measures and given the measuremen, it applies the gate (so for it, the control is a classical bit)\n"
   ]
  },
  {
   "cell_type": "code",
   "execution_count": 98,
   "id": "42fe0ce3",
   "metadata": {},
   "outputs": [
    {
     "data": {
      "image/png": "[encoded data removed]",
      "text/plain": [
       "<Figure size 436.286x200.667 with 1 Axes>"
      ]
     },
     "execution_count": 98,
     "metadata": {},
     "output_type": "execute_result"
    }
   ],
   "source": [
    "qc=QuantumCircuit(1,1)\n",
    "qc.h(0)\n",
    "qc.measure(0,0)\n",
    "qc.x(0).c_if(0,1) # CNoT on qubit 0, when bit 0 was measured as 1\n",
    "qc.measure(0,0)\n",
    "qc.draw('mpl')"
   ]
  },
  {
   "cell_type": "code",
   "execution_count": 100,
   "id": "99f54140",
   "metadata": {},
   "outputs": [
    {
     "ename": "QiskitError",
     "evalue": "'StatevectorSampler cannot handle ControlFlowOp and c_if'",
     "output_type": "error",
     "traceback": [
      "\u001b[0;31m---------------------------------------------------------------------------\u001b[0m",
      "\u001b[0;31mQiskitError\u001b[0m                               Traceback (most recent call last)",
      "Cell \u001b[0;32mIn[100], line 2\u001b[0m\n\u001b[1;32m      1\u001b[0m \u001b[38;5;66;03m#Now we again define the result_sampler\u001b[39;00m\n\u001b[0;32m----> 2\u001b[0m result_sampler\u001b[38;5;241m=\u001b[39m\u001b[43msampler\u001b[49m\u001b[38;5;241;43m.\u001b[39;49m\u001b[43mrun\u001b[49m\u001b[43m(\u001b[49m\u001b[43m[\u001b[49m\u001b[43mqc\u001b[49m\u001b[43m]\u001b[49m\u001b[43m,\u001b[49m\u001b[43mshots\u001b[49m\u001b[38;5;241;43m=\u001b[39;49m\u001b[38;5;241;43m1024\u001b[39;49m\u001b[43m)\u001b[49m\u001b[38;5;241;43m.\u001b[39;49m\u001b[43mresult\u001b[49m\u001b[43m(\u001b[49m\u001b[43m)\u001b[49m\n",
      "File \u001b[0;32m~/anaconda3/lib/python3.10/site-packages/qiskit/primitives/primitive_job.py:51\u001b[0m, in \u001b[0;36mPrimitiveJob.result\u001b[0;34m(self)\u001b[0m\n\u001b[1;32m     49\u001b[0m \u001b[38;5;28;01mdef\u001b[39;00m \u001b[38;5;21mresult\u001b[39m(\u001b[38;5;28mself\u001b[39m) \u001b[38;5;241m-\u001b[39m\u001b[38;5;241m>\u001b[39m ResultT:\n\u001b[1;32m     50\u001b[0m     \u001b[38;5;28mself\u001b[39m\u001b[38;5;241m.\u001b[39m_check_submitted()\n\u001b[0;32m---> 51\u001b[0m     \u001b[38;5;28;01mreturn\u001b[39;00m \u001b[38;5;28;43mself\u001b[39;49m\u001b[38;5;241;43m.\u001b[39;49m\u001b[43m_future\u001b[49m\u001b[38;5;241;43m.\u001b[39;49m\u001b[43mresult\u001b[49m\u001b[43m(\u001b[49m\u001b[43m)\u001b[49m\n",
      "File \u001b[0;32m~/anaconda3/lib/python3.10/concurrent/futures/_base.py:451\u001b[0m, in \u001b[0;36mFuture.result\u001b[0;34m(self, timeout)\u001b[0m\n\u001b[1;32m    449\u001b[0m     \u001b[38;5;28;01mraise\u001b[39;00m CancelledError()\n\u001b[1;32m    450\u001b[0m \u001b[38;5;28;01melif\u001b[39;00m \u001b[38;5;28mself\u001b[39m\u001b[38;5;241m.\u001b[39m_state \u001b[38;5;241m==\u001b[39m FINISHED:\n\u001b[0;32m--> 451\u001b[0m     \u001b[38;5;28;01mreturn\u001b[39;00m \u001b[38;5;28;43mself\u001b[39;49m\u001b[38;5;241;43m.\u001b[39;49m\u001b[43m__get_result\u001b[49m\u001b[43m(\u001b[49m\u001b[43m)\u001b[49m\n\u001b[1;32m    453\u001b[0m \u001b[38;5;28mself\u001b[39m\u001b[38;5;241m.\u001b[39m_condition\u001b[38;5;241m.\u001b[39mwait(timeout)\n\u001b[1;32m    455\u001b[0m \u001b[38;5;28;01mif\u001b[39;00m \u001b[38;5;28mself\u001b[39m\u001b[38;5;241m.\u001b[39m_state \u001b[38;5;129;01min\u001b[39;00m [CANCELLED, CANCELLED_AND_NOTIFIED]:\n",
      "File \u001b[0;32m~/anaconda3/lib/python3.10/concurrent/futures/_base.py:403\u001b[0m, in \u001b[0;36mFuture.__get_result\u001b[0;34m(self)\u001b[0m\n\u001b[1;32m    401\u001b[0m \u001b[38;5;28;01mif\u001b[39;00m \u001b[38;5;28mself\u001b[39m\u001b[38;5;241m.\u001b[39m_exception:\n\u001b[1;32m    402\u001b[0m     \u001b[38;5;28;01mtry\u001b[39;00m:\n\u001b[0;32m--> 403\u001b[0m         \u001b[38;5;28;01mraise\u001b[39;00m \u001b[38;5;28mself\u001b[39m\u001b[38;5;241m.\u001b[39m_exception\n\u001b[1;32m    404\u001b[0m     \u001b[38;5;28;01mfinally\u001b[39;00m:\n\u001b[1;32m    405\u001b[0m         \u001b[38;5;66;03m# Break a reference cycle with the exception in self._exception\u001b[39;00m\n\u001b[1;32m    406\u001b[0m         \u001b[38;5;28mself\u001b[39m \u001b[38;5;241m=\u001b[39m \u001b[38;5;28;01mNone\u001b[39;00m\n",
      "File \u001b[0;32m~/anaconda3/lib/python3.10/concurrent/futures/thread.py:58\u001b[0m, in \u001b[0;36m_WorkItem.run\u001b[0;34m(self)\u001b[0m\n\u001b[1;32m     55\u001b[0m     \u001b[38;5;28;01mreturn\u001b[39;00m\n\u001b[1;32m     57\u001b[0m \u001b[38;5;28;01mtry\u001b[39;00m:\n\u001b[0;32m---> 58\u001b[0m     result \u001b[38;5;241m=\u001b[39m \u001b[38;5;28;43mself\u001b[39;49m\u001b[38;5;241;43m.\u001b[39;49m\u001b[43mfn\u001b[49m\u001b[43m(\u001b[49m\u001b[38;5;241;43m*\u001b[39;49m\u001b[38;5;28;43mself\u001b[39;49m\u001b[38;5;241;43m.\u001b[39;49m\u001b[43margs\u001b[49m\u001b[43m,\u001b[49m\u001b[43m \u001b[49m\u001b[38;5;241;43m*\u001b[39;49m\u001b[38;5;241;43m*\u001b[39;49m\u001b[38;5;28;43mself\u001b[39;49m\u001b[38;5;241;43m.\u001b[39;49m\u001b[43mkwargs\u001b[49m\u001b[43m)\u001b[49m\n\u001b[1;32m     59\u001b[0m \u001b[38;5;28;01mexcept\u001b[39;00m \u001b[38;5;167;01mBaseException\u001b[39;00m \u001b[38;5;28;01mas\u001b[39;00m exc:\n\u001b[1;32m     60\u001b[0m     \u001b[38;5;28mself\u001b[39m\u001b[38;5;241m.\u001b[39mfuture\u001b[38;5;241m.\u001b[39mset_exception(exc)\n",
      "File \u001b[0;32m~/anaconda3/lib/python3.10/site-packages/qiskit/primitives/statevector_sampler.py:173\u001b[0m, in \u001b[0;36mStatevectorSampler._run\u001b[0;34m(self, pubs)\u001b[0m\n\u001b[1;32m    172\u001b[0m \u001b[38;5;28;01mdef\u001b[39;00m \u001b[38;5;21m_run\u001b[39m(\u001b[38;5;28mself\u001b[39m, pubs: Iterable[SamplerPub]) \u001b[38;5;241m-\u001b[39m\u001b[38;5;241m>\u001b[39m PrimitiveResult[SamplerPubResult]:\n\u001b[0;32m--> 173\u001b[0m     results \u001b[38;5;241m=\u001b[39m [\u001b[38;5;28mself\u001b[39m\u001b[38;5;241m.\u001b[39m_run_pub(pub) \u001b[38;5;28;01mfor\u001b[39;00m pub \u001b[38;5;129;01min\u001b[39;00m pubs]\n\u001b[1;32m    174\u001b[0m     \u001b[38;5;28;01mreturn\u001b[39;00m PrimitiveResult(results, metadata\u001b[38;5;241m=\u001b[39m{\u001b[38;5;124m\"\u001b[39m\u001b[38;5;124mversion\u001b[39m\u001b[38;5;124m\"\u001b[39m: \u001b[38;5;241m2\u001b[39m})\n",
      "File \u001b[0;32m~/anaconda3/lib/python3.10/site-packages/qiskit/primitives/statevector_sampler.py:173\u001b[0m, in \u001b[0;36m<listcomp>\u001b[0;34m(.0)\u001b[0m\n\u001b[1;32m    172\u001b[0m \u001b[38;5;28;01mdef\u001b[39;00m \u001b[38;5;21m_run\u001b[39m(\u001b[38;5;28mself\u001b[39m, pubs: Iterable[SamplerPub]) \u001b[38;5;241m-\u001b[39m\u001b[38;5;241m>\u001b[39m PrimitiveResult[SamplerPubResult]:\n\u001b[0;32m--> 173\u001b[0m     results \u001b[38;5;241m=\u001b[39m [\u001b[38;5;28;43mself\u001b[39;49m\u001b[38;5;241;43m.\u001b[39;49m\u001b[43m_run_pub\u001b[49m\u001b[43m(\u001b[49m\u001b[43mpub\u001b[49m\u001b[43m)\u001b[49m \u001b[38;5;28;01mfor\u001b[39;00m pub \u001b[38;5;129;01min\u001b[39;00m pubs]\n\u001b[1;32m    174\u001b[0m     \u001b[38;5;28;01mreturn\u001b[39;00m PrimitiveResult(results, metadata\u001b[38;5;241m=\u001b[39m{\u001b[38;5;124m\"\u001b[39m\u001b[38;5;124mversion\u001b[39m\u001b[38;5;124m\"\u001b[39m: \u001b[38;5;241m2\u001b[39m})\n",
      "File \u001b[0;32m~/anaconda3/lib/python3.10/site-packages/qiskit/primitives/statevector_sampler.py:177\u001b[0m, in \u001b[0;36mStatevectorSampler._run_pub\u001b[0;34m(self, pub)\u001b[0m\n\u001b[1;32m    176\u001b[0m \u001b[38;5;28;01mdef\u001b[39;00m \u001b[38;5;21m_run_pub\u001b[39m(\u001b[38;5;28mself\u001b[39m, pub: SamplerPub) \u001b[38;5;241m-\u001b[39m\u001b[38;5;241m>\u001b[39m SamplerPubResult:\n\u001b[0;32m--> 177\u001b[0m     circuit, qargs, meas_info \u001b[38;5;241m=\u001b[39m \u001b[43m_preprocess_circuit\u001b[49m\u001b[43m(\u001b[49m\u001b[43mpub\u001b[49m\u001b[38;5;241;43m.\u001b[39;49m\u001b[43mcircuit\u001b[49m\u001b[43m)\u001b[49m\n\u001b[1;32m    178\u001b[0m     bound_circuits \u001b[38;5;241m=\u001b[39m pub\u001b[38;5;241m.\u001b[39mparameter_values\u001b[38;5;241m.\u001b[39mbind_all(circuit)\n\u001b[1;32m    179\u001b[0m     arrays \u001b[38;5;241m=\u001b[39m {\n\u001b[1;32m    180\u001b[0m         item\u001b[38;5;241m.\u001b[39mcreg_name: np\u001b[38;5;241m.\u001b[39mzeros(\n\u001b[1;32m    181\u001b[0m             bound_circuits\u001b[38;5;241m.\u001b[39mshape \u001b[38;5;241m+\u001b[39m (pub\u001b[38;5;241m.\u001b[39mshots, item\u001b[38;5;241m.\u001b[39mnum_bytes), dtype\u001b[38;5;241m=\u001b[39mnp\u001b[38;5;241m.\u001b[39muint8\n\u001b[1;32m    182\u001b[0m         )\n\u001b[1;32m    183\u001b[0m         \u001b[38;5;28;01mfor\u001b[39;00m item \u001b[38;5;129;01min\u001b[39;00m meas_info\n\u001b[1;32m    184\u001b[0m     }\n",
      "File \u001b[0;32m~/anaconda3/lib/python3.10/site-packages/qiskit/primitives/statevector_sampler.py:213\u001b[0m, in \u001b[0;36m_preprocess_circuit\u001b[0;34m(circuit)\u001b[0m\n\u001b[1;32m    211\u001b[0m circuit \u001b[38;5;241m=\u001b[39m circuit\u001b[38;5;241m.\u001b[39mremove_final_measurements(inplace\u001b[38;5;241m=\u001b[39m\u001b[38;5;28;01mFalse\u001b[39;00m)\n\u001b[1;32m    212\u001b[0m \u001b[38;5;28;01mif\u001b[39;00m _has_control_flow(circuit):\n\u001b[0;32m--> 213\u001b[0m     \u001b[38;5;28;01mraise\u001b[39;00m QiskitError(\u001b[38;5;124m\"\u001b[39m\u001b[38;5;124mStatevectorSampler cannot handle ControlFlowOp and c_if\u001b[39m\u001b[38;5;124m\"\u001b[39m)\n\u001b[1;32m    214\u001b[0m \u001b[38;5;28;01mif\u001b[39;00m _has_measure(circuit):\n\u001b[1;32m    215\u001b[0m     \u001b[38;5;28;01mraise\u001b[39;00m QiskitError(\u001b[38;5;124m\"\u001b[39m\u001b[38;5;124mStatevectorSampler cannot handle mid-circuit measurements\u001b[39m\u001b[38;5;124m\"\u001b[39m)\n",
      "\u001b[0;31mQiskitError\u001b[0m: 'StatevectorSampler cannot handle ControlFlowOp and c_if'"
     ]
    }
   ],
   "source": [
    "#Now we again define the result_sampler\n",
    "result_sampler=sampler.run([qc],shots=1024).result()"
   ]
  },
  {
   "cell_type": "markdown",
   "id": "35a8c9a6",
   "metadata": {},
   "source": [
    "'StatevectorSampler cannot handle ControlFlowOp and c_if'\n",
    "this error means: it simply couldn't handle the mixed circuit measurement "
   ]
  },
  {
   "cell_type": "markdown",
   "id": "55009036",
   "metadata": {},
   "source": [
    "Estimator:\n",
    "Sampler gets pub, given the backend, the output is a probability distribution (telling how many times a perticular result was observed)\n",
    "Estimator is used when we wanna deal with expectation values\n",
    "Expectation value need an obsservable, and that observable is with respect to which axis you wanna perform measurement. You can make any observable you like using estimators"
   ]
  },
  {
   "cell_type": "markdown",
   "id": "21fda56e",
   "metadata": {},
   "source": [
    "#Estimators: Computers expectation values of observables with the respective states prepared by quantum circuits"
   ]
  },
  {
   "cell_type": "markdown",
   "id": "f6974699",
   "metadata": {},
   "source": [
    "Primitives:\n",
    "Basic foundation block to run slightly higher-level quantum programs\n",
    "Return more than just counts as output\n",
    "Estimator: Estimates expectation values of state with respect to observables"
   ]
  },
  {
   "cell_type": "markdown",
   "id": "0dec11a7",
   "metadata": {},
   "source": [
    "For estimator, it's allowed to have multiple observables(having mixture of operators/ quantum tomography, how to get expectation value for a specific observable\n",
    "can have multiple pubs as well, it also needs precision. it also intercat with backend, then giving an expectation value\n"
   ]
  },
  {
   "cell_type": "code",
   "execution_count": 104,
   "id": "0ce2c06c",
   "metadata": {},
   "outputs": [
    {
     "data": {
      "image/png": "[encoded data removed]",
      "text/plain": [
       "<Figure size 580.387x284.278 with 1 Axes>"
      ]
     },
     "execution_count": 104,
     "metadata": {},
     "output_type": "execute_result"
    }
   ],
   "source": [
    "# having parametric circuit\n",
    "qc2.draw('mpl')"
   ]
  },
  {
   "cell_type": "code",
   "execution_count": 112,
   "id": "46a3acf6",
   "metadata": {},
   "outputs": [
    {
     "data": {
      "image/png": "[encoded data removed]",
      "text/plain": [
       "<Figure size 287.294x200.667 with 1 Axes>"
      ]
     },
     "execution_count": 112,
     "metadata": {},
     "output_type": "execute_result"
    }
   ],
   "source": [
    "#mixed circuit measurement shouldn't have samplers,also estimator should not have measurement since it's gonna do measurement at the end itself\n",
    "# so we need a circuitwith no measurement, let's define a new circuit for this goal:\n",
    "qc2=QuantumCircuit(2)\n",
    "qc2.rx(theta,0)\n",
    "qc2.cx(0,1)\n",
    "qc2.draw('mpl')"
   ]
  },
  {
   "cell_type": "code",
   "execution_count": 110,
   "id": "16b860c8",
   "metadata": {},
   "outputs": [],
   "source": [
    "#Estimator Code:\n",
    "from qiskit.quantum_info import SparsePauliOp  # could use it to make any observable we like\n",
    "#making list of observables, having 2 qubits, so we need 2 observables ( called\"xx\" as arbitrary observable)\n",
    "obsv=[\n",
    "    [SparsePauliOp([\"XX\",\"IY\"],[0.5,0.5])],  # corresponding coefficient here is 0.5\n",
    "    [SparsePauliOp([\"XX\"],[1])] #define the next observable\n",
    "]\n",
    "   \n"
   ]
  },
  {
   "cell_type": "code",
   "execution_count": 116,
   "id": "c7c86b44",
   "metadata": {},
   "outputs": [],
   "source": [
    "#making estimator object\n",
    "estimator=StatevectorEstimator()\n",
    "result_estimator=estimator.run([(qc2,obsv,angles,0.1)]).result() # the argument is the pub as list\n",
    "# what pub has to have as estimator?  circuit,observable,parameter, and precision(0.1) ( No shots here)"
   ]
  },
  {
   "cell_type": "code",
   "execution_count": 117,
   "id": "f69971c9",
   "metadata": {},
   "outputs": [
    {
     "data": {
      "text/plain": [
       "array([[ 0.05394925, -0.01108253, -0.05389885],\n",
       "       [ 0.0033058 ,  0.11497404, -0.18893987]])"
      ]
     },
     "execution_count": 117,
     "metadata": {},
     "output_type": "execute_result"
    }
   ],
   "source": [
    "#getting results, using evs as expecttion values\n",
    "result_estimator[0].data.evs"
   ]
  },
  {
   "cell_type": "markdown",
   "id": "965992f4",
   "metadata": {},
   "source": [
    "given that we have 2 observables,and 3 angles, we would have 6 outputs ( 6 expectation values)"
   ]
  }
 ],
 "metadata": {
  "kernelspec": {
   "display_name": "Python 3 (ipykernel)",
   "language": "python",
   "name": "python3"
  },
  "language_info": {
   "codemirror_mode": {
    "name": "ipython",
    "version": 3
   },
   "file_extension": ".py",
   "mimetype": "text/x-python",
   "name": "python",
   "nbconvert_exporter": "python",
   "pygments_lexer": "ipython3",
   "version": "3.10.9"
  }
 },
 "nbformat": 4,
 "nbformat_minor": 5
}
